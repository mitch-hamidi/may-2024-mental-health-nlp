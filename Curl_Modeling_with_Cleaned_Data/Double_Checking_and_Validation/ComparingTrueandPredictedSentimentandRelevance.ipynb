{
 "cells": [
  {
   "cell_type": "code",
   "execution_count": 46,
   "id": "f990a775-9a7e-46a9-830d-cfd129e80149",
   "metadata": {},
   "outputs": [],
   "source": [
    "#load necessary packages \n",
    "import numpy as np\n",
    "import pandas as pd\n",
    "import re\n",
    "import nltk\n",
    "import matplotlib.pyplot as plt\n",
    "from seaborn import set_style\n",
    "set_style(\"whitegrid\")\n",
    "import seaborn as sns"
   ]
  },
  {
   "cell_type": "code",
   "execution_count": 47,
   "id": "e5823581-5c00-46b6-9cc7-214c376b58d4",
   "metadata": {},
   "outputs": [
    {
     "data": {
      "text/html": [
       "<div>\n",
       "<style scoped>\n",
       "    .dataframe tbody tr th:only-of-type {\n",
       "        vertical-align: middle;\n",
       "    }\n",
       "\n",
       "    .dataframe tbody tr th {\n",
       "        vertical-align: top;\n",
       "    }\n",
       "\n",
       "    .dataframe thead th {\n",
       "        text-align: right;\n",
       "    }\n",
       "</style>\n",
       "<table border=\"1\" class=\"dataframe\">\n",
       "  <thead>\n",
       "    <tr style=\"text-align: right;\">\n",
       "      <th></th>\n",
       "      <th>Valid_Sentiment</th>\n",
       "      <th>Recommendation_Score</th>\n",
       "    </tr>\n",
       "  </thead>\n",
       "  <tbody>\n",
       "    <tr>\n",
       "      <th>0</th>\n",
       "      <td>-1</td>\n",
       "      <td>0</td>\n",
       "    </tr>\n",
       "    <tr>\n",
       "      <th>1</th>\n",
       "      <td>-1</td>\n",
       "      <td>1</td>\n",
       "    </tr>\n",
       "    <tr>\n",
       "      <th>2</th>\n",
       "      <td>-1</td>\n",
       "      <td>0</td>\n",
       "    </tr>\n",
       "    <tr>\n",
       "      <th>3</th>\n",
       "      <td>-1</td>\n",
       "      <td>1</td>\n",
       "    </tr>\n",
       "    <tr>\n",
       "      <th>4</th>\n",
       "      <td>-1</td>\n",
       "      <td>0</td>\n",
       "    </tr>\n",
       "    <tr>\n",
       "      <th>...</th>\n",
       "      <td>...</td>\n",
       "      <td>...</td>\n",
       "    </tr>\n",
       "    <tr>\n",
       "      <th>388</th>\n",
       "      <td>1</td>\n",
       "      <td>0</td>\n",
       "    </tr>\n",
       "    <tr>\n",
       "      <th>389</th>\n",
       "      <td>1</td>\n",
       "      <td>0</td>\n",
       "    </tr>\n",
       "    <tr>\n",
       "      <th>390</th>\n",
       "      <td>1</td>\n",
       "      <td>0</td>\n",
       "    </tr>\n",
       "    <tr>\n",
       "      <th>391</th>\n",
       "      <td>1</td>\n",
       "      <td>0</td>\n",
       "    </tr>\n",
       "    <tr>\n",
       "      <th>392</th>\n",
       "      <td>1</td>\n",
       "      <td>1</td>\n",
       "    </tr>\n",
       "  </tbody>\n",
       "</table>\n",
       "<p>393 rows × 2 columns</p>\n",
       "</div>"
      ],
      "text/plain": [
       "     Valid_Sentiment  Recommendation_Score\n",
       "0                 -1                     0\n",
       "1                 -1                     1\n",
       "2                 -1                     0\n",
       "3                 -1                     1\n",
       "4                 -1                     0\n",
       "..               ...                   ...\n",
       "388                1                     0\n",
       "389                1                     0\n",
       "390                1                     0\n",
       "391                1                     0\n",
       "392                1                     1\n",
       "\n",
       "[393 rows x 2 columns]"
      ]
     },
     "execution_count": 47,
     "metadata": {},
     "output_type": "execute_result"
    }
   ],
   "source": [
    "#loading a file with the true sentiment scores and predicted sentiment scores \n",
    "sentiment_df = pd.read_csv(\"validandpredictedsentimenttogether.csv\")\n",
    "sentiment_df"
   ]
  },
  {
   "cell_type": "code",
   "execution_count": 57,
   "id": "3792768a-4113-40d8-9593-3bb9b6e3347c",
   "metadata": {},
   "outputs": [],
   "source": [
    "#create lists of true and predicted values \n",
    "valid_sents = sentiment_df['Valid_Sentiment'].tolist()\n",
    "pred_sents = sentiment_df['Recommendation_Score'].tolist()"
   ]
  },
  {
   "cell_type": "code",
   "execution_count": 60,
   "id": "eeca9bff-1751-4afd-ac5d-9cbd7dcf8ac4",
   "metadata": {},
   "outputs": [],
   "source": [
    "new_valid_sents = [] \n",
    "for i in valid_sents:\n",
    "    if i <= 0:\n",
    "        z = 0\n",
    "        new_valid_sents.append(z)\n",
    "    else: \n",
    "        z = 1 \n",
    "        new_valid_sents.append(z)\n"
   ]
  },
  {
   "cell_type": "code",
   "execution_count": 61,
   "id": "95f3c7b1-0def-48e3-af94-bab496a7acfa",
   "metadata": {},
   "outputs": [
    {
     "data": {
      "text/plain": [
       "0.6055979643765903"
      ]
     },
     "execution_count": 61,
     "metadata": {},
     "output_type": "execute_result"
    }
   ],
   "source": [
    "accuracy_sents = len([new_valid_sents[i] for i in range(0, len(new_valid_sents)) if new_valid_sents[i] == pred_sents[i]]) / len(new_valid_sents)\n",
    "accuracy_sents"
   ]
  },
  {
   "cell_type": "code",
   "execution_count": 64,
   "id": "47b7021f-c6a7-41c1-ae26-3778903944ca",
   "metadata": {},
   "outputs": [
    {
     "data": {
      "text/plain": [
       "238"
      ]
     },
     "execution_count": 64,
     "metadata": {},
     "output_type": "execute_result"
    }
   ],
   "source": [
    "intersection_valid_pred_sents = len([i for i in range(0, len(pred_sents)) if pred_sents[i] == new_valid_sents[i]])\n",
    "intersection_valid_pred_sents"
   ]
  },
  {
   "cell_type": "code",
   "execution_count": 73,
   "id": "7a9af347-a8f4-4f48-98c3-28b3524b5504",
   "metadata": {},
   "outputs": [
    {
     "data": {
      "text/plain": [
       "0.6466165413533834"
      ]
     },
     "execution_count": 73,
     "metadata": {},
     "output_type": "execute_result"
    }
   ],
   "source": [
    "pred_sent_array = np.array([pred_sents])\n",
    "true_sent_array = np.array([new_valid_sents])\n",
    "TP = ((pred_sent_array == 1) & (true_sent_array == 1)).sum()\n",
    "FP = ((pred_sent_array == 1) & (true_sent_array == 0)).sum()\n",
    "precision = TP / (TP+FP)\n",
    "precision"
   ]
  },
  {
   "cell_type": "code",
   "execution_count": null,
   "id": "716fad3e-419d-409b-a23d-94f771e1e26a",
   "metadata": {},
   "outputs": [],
   "source": []
  },
  {
   "cell_type": "code",
   "execution_count": null,
   "id": "2d154498-961e-46f9-80d6-6351c1720172",
   "metadata": {},
   "outputs": [],
   "source": []
  },
  {
   "cell_type": "code",
   "execution_count": 51,
   "id": "bb698644-3aa2-4f1c-b990-23b0293b855d",
   "metadata": {},
   "outputs": [
    {
     "data": {
      "text/html": [
       "<div>\n",
       "<style scoped>\n",
       "    .dataframe tbody tr th:only-of-type {\n",
       "        vertical-align: middle;\n",
       "    }\n",
       "\n",
       "    .dataframe tbody tr th {\n",
       "        vertical-align: top;\n",
       "    }\n",
       "\n",
       "    .dataframe thead th {\n",
       "        text-align: right;\n",
       "    }\n",
       "</style>\n",
       "<table border=\"1\" class=\"dataframe\">\n",
       "  <thead>\n",
       "    <tr style=\"text-align: right;\">\n",
       "      <th></th>\n",
       "      <th>Relevancy_Score</th>\n",
       "      <th>Valid_Relevancy</th>\n",
       "    </tr>\n",
       "  </thead>\n",
       "  <tbody>\n",
       "    <tr>\n",
       "      <th>0</th>\n",
       "      <td>2</td>\n",
       "      <td>1</td>\n",
       "    </tr>\n",
       "    <tr>\n",
       "      <th>1</th>\n",
       "      <td>0</td>\n",
       "      <td>1</td>\n",
       "    </tr>\n",
       "    <tr>\n",
       "      <th>2</th>\n",
       "      <td>0</td>\n",
       "      <td>1</td>\n",
       "    </tr>\n",
       "    <tr>\n",
       "      <th>3</th>\n",
       "      <td>2</td>\n",
       "      <td>1</td>\n",
       "    </tr>\n",
       "    <tr>\n",
       "      <th>4</th>\n",
       "      <td>2</td>\n",
       "      <td>1</td>\n",
       "    </tr>\n",
       "    <tr>\n",
       "      <th>...</th>\n",
       "      <td>...</td>\n",
       "      <td>...</td>\n",
       "    </tr>\n",
       "    <tr>\n",
       "      <th>263</th>\n",
       "      <td>2</td>\n",
       "      <td>1</td>\n",
       "    </tr>\n",
       "    <tr>\n",
       "      <th>264</th>\n",
       "      <td>2</td>\n",
       "      <td>1</td>\n",
       "    </tr>\n",
       "    <tr>\n",
       "      <th>265</th>\n",
       "      <td>1</td>\n",
       "      <td>1</td>\n",
       "    </tr>\n",
       "    <tr>\n",
       "      <th>266</th>\n",
       "      <td>2</td>\n",
       "      <td>1</td>\n",
       "    </tr>\n",
       "    <tr>\n",
       "      <th>267</th>\n",
       "      <td>2</td>\n",
       "      <td>1</td>\n",
       "    </tr>\n",
       "  </tbody>\n",
       "</table>\n",
       "<p>268 rows × 2 columns</p>\n",
       "</div>"
      ],
      "text/plain": [
       "     Relevancy_Score  Valid_Relevancy\n",
       "0                  2                1\n",
       "1                  0                1\n",
       "2                  0                1\n",
       "3                  2                1\n",
       "4                  2                1\n",
       "..               ...              ...\n",
       "263                2                1\n",
       "264                2                1\n",
       "265                1                1\n",
       "266                2                1\n",
       "267                2                1\n",
       "\n",
       "[268 rows x 2 columns]"
      ]
     },
     "execution_count": 51,
     "metadata": {},
     "output_type": "execute_result"
    }
   ],
   "source": [
    "relevancy_df = pd.read_csv(\"validandpredictedrelevancytogether.csv\")\n",
    "relevancy_df"
   ]
  },
  {
   "cell_type": "code",
   "execution_count": 38,
   "id": "b4f4304e-fd81-4c1a-8788-113ec3744b49",
   "metadata": {},
   "outputs": [],
   "source": [
    "pred_rels = relevancy_df['Relevancy_Score'].tolist()\n",
    "valid_rels = relevancy_df['Valid_Relevancy'].tolist()"
   ]
  },
  {
   "cell_type": "code",
   "execution_count": 56,
   "id": "ca5933f7-f4e6-42ca-8ded-9166ae6482fc",
   "metadata": {},
   "outputs": [],
   "source": [
    "newpred_rels = []\n",
    "for i in pred_rels:\n",
    "    if i >= 1:\n",
    "        z = 1\n",
    "        newpred_rels.append(z)\n",
    "    else: \n",
    "        z = 0 \n",
    "        newpred_rels.append(z)\n"
   ]
  },
  {
   "cell_type": "code",
   "execution_count": 55,
   "id": "34d039b4-24ba-40f7-84de-173cfd26c23a",
   "metadata": {},
   "outputs": [
    {
     "data": {
      "text/plain": [
       "0.7873134328358209"
      ]
     },
     "execution_count": 55,
     "metadata": {},
     "output_type": "execute_result"
    }
   ],
   "source": [
    "accuracy_rels = len([valid_rels[i] for i in range(0, len(valid_rels)) if valid_rels[i] == newpred_rels[i]]) / len(valid_rels)\n",
    "accuracy_rels"
   ]
  },
  {
   "cell_type": "code",
   "execution_count": 65,
   "id": "5e5dced6-f39a-4564-a1b0-0e83a2b31e2a",
   "metadata": {},
   "outputs": [
    {
     "data": {
      "text/plain": [
       "211"
      ]
     },
     "execution_count": 65,
     "metadata": {},
     "output_type": "execute_result"
    }
   ],
   "source": [
    "intersection_valid_pred_rels = len([i for i in range(0, len(valid_rels)) if newpred_rels[i] == valid_rels[i]])\n",
    "intersection_valid_pred_rels"
   ]
  },
  {
   "cell_type": "code",
   "execution_count": 75,
   "id": "6a2dd70b-503f-4d82-bfe2-a790a0a8ee75",
   "metadata": {},
   "outputs": [
    {
     "data": {
      "text/plain": [
       "1.0"
      ]
     },
     "execution_count": 75,
     "metadata": {},
     "output_type": "execute_result"
    }
   ],
   "source": [
    "pred_rel_array = np.array([newpred_rels])\n",
    "true_rel_array = np.array([valid_rels])\n",
    "TP = ((pred_rel_array == 1) & (true_rel_array == 1)).sum()\n",
    "FP = ((pred_rel_array == 1) & (true_rel_array == 0)).sum()\n",
    "precision = TP / (TP+FP)\n",
    "precision"
   ]
  },
  {
   "cell_type": "code",
   "execution_count": null,
   "id": "0b3dd257-1dff-424e-bbb7-ed3b117aa31d",
   "metadata": {},
   "outputs": [],
   "source": [
    "recall = TP/ (TP+FN)"
   ]
  },
  {
   "cell_type": "code",
   "execution_count": null,
   "id": "2efd32c3-f8a3-4ca0-8ab1-1f8125c66665",
   "metadata": {},
   "outputs": [],
   "source": []
  }
 ],
 "metadata": {
  "kernelspec": {
   "display_name": "Python 3 (ipykernel)",
   "language": "python",
   "name": "python3"
  },
  "language_info": {
   "codemirror_mode": {
    "name": "ipython",
    "version": 3
   },
   "file_extension": ".py",
   "mimetype": "text/x-python",
   "name": "python",
   "nbconvert_exporter": "python",
   "pygments_lexer": "ipython3",
   "version": "3.11.9"
  }
 },
 "nbformat": 4,
 "nbformat_minor": 5
}
