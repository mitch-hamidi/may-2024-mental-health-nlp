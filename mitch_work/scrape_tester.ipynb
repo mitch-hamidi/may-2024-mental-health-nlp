{
 "cells": [
  {
   "cell_type": "code",
   "execution_count": 3,
   "metadata": {},
   "outputs": [],
   "source": [
    "import numpy as np\n",
    "import pandas as pd\n",
    "import praw\n",
    "import time\n",
    "\n",
    "from my_praw_info import get_client_id, get_client_secret, get_user_agent\n",
    "\n",
    "# create a Reddit read-only instance\n",
    "reddit = praw.Reddit(client_id=get_client_id(),\n",
    "                    client_secret=get_client_secret(),\n",
    "                    user_agent=get_user_agent())"
   ]
  },
  {
   "cell_type": "code",
   "execution_count": 4,
   "metadata": {},
   "outputs": [],
   "source": [
    "from subreddit_list import subreddit_list\n",
    "\n",
    "subreddits = subreddit_list()"
   ]
  },
  {
   "cell_type": "code",
   "execution_count": 5,
   "metadata": {},
   "outputs": [
    {
     "name": "stdout",
     "output_type": "stream",
     "text": [
      "r/BPD posts dataframe has length 1135\n",
      "r/BorderlinePDisorder posts dataframe has length 1090\n",
      "r/BPDmemes posts dataframe has length 1080\n",
      "r/SuicideWatch posts dataframe has length 1968\n",
      "r/QuietBPD posts dataframe has length 9\n",
      "r/BPDrecovery posts dataframe has length 971\n",
      "r/mentalhealth posts dataframe has length 1795\n",
      "r/BPDsupport posts dataframe has length 1009\n"
     ]
    }
   ],
   "source": [
    "# create empty dictionary for subreddit dataframes\n",
    "post_dfs = dict.fromkeys(subreddits)\n",
    "\n",
    "# fill dictionary with dataframes\n",
    "for subreddit in subreddits:\n",
    "    post_dfs[subreddit]= pd.read_csv('data/posts/'+subreddit+'.csv')\n",
    "    print('r/'+subreddit,'posts dataframe has length',len(post_dfs[subreddit]))"
   ]
  },
  {
   "cell_type": "code",
   "execution_count": 6,
   "metadata": {},
   "outputs": [
    {
     "data": {
      "text/html": [
       "<div>\n",
       "<style scoped>\n",
       "    .dataframe tbody tr th:only-of-type {\n",
       "        vertical-align: middle;\n",
       "    }\n",
       "\n",
       "    .dataframe tbody tr th {\n",
       "        vertical-align: top;\n",
       "    }\n",
       "\n",
       "    .dataframe thead th {\n",
       "        text-align: right;\n",
       "    }\n",
       "</style>\n",
       "<table border=\"1\" class=\"dataframe\">\n",
       "  <thead>\n",
       "    <tr style=\"text-align: right;\">\n",
       "      <th></th>\n",
       "      <th>Title</th>\n",
       "      <th>Post Date</th>\n",
       "      <th>Post Text</th>\n",
       "      <th>Author</th>\n",
       "      <th>Author Flair</th>\n",
       "      <th>Original Content</th>\n",
       "      <th>ID</th>\n",
       "      <th>Score</th>\n",
       "      <th>Total Comments</th>\n",
       "      <th>Post URL</th>\n",
       "    </tr>\n",
       "  </thead>\n",
       "  <tbody>\n",
       "    <tr>\n",
       "      <th>467</th>\n",
       "      <td>pov</td>\n",
       "      <td>1.715335e+09</td>\n",
       "      <td>NaN</td>\n",
       "      <td>coleisw4ck</td>\n",
       "      <td>NaN</td>\n",
       "      <td>False</td>\n",
       "      <td>1colqro</td>\n",
       "      <td>41</td>\n",
       "      <td>2</td>\n",
       "      <td>https://i.redd.it/ey097sdqmkzc1.jpeg</td>\n",
       "    </tr>\n",
       "    <tr>\n",
       "      <th>1079</th>\n",
       "      <td>😐</td>\n",
       "      <td>1.713191e+09</td>\n",
       "      <td>y'all are 👑 and I love you</td>\n",
       "      <td>Glittering-War5185</td>\n",
       "      <td>NaN</td>\n",
       "      <td>False</td>\n",
       "      <td>1c4ncw0</td>\n",
       "      <td>56</td>\n",
       "      <td>0</td>\n",
       "      <td>https://i.redd.it/wp5prcedjnuc1.png</td>\n",
       "    </tr>\n",
       "    <tr>\n",
       "      <th>634</th>\n",
       "      <td>reason why I ghost people</td>\n",
       "      <td>1.714782e+09</td>\n",
       "      <td>NaN</td>\n",
       "      <td>bipolarbisexual69</td>\n",
       "      <td>NaN</td>\n",
       "      <td>False</td>\n",
       "      <td>1cjnded</td>\n",
       "      <td>371</td>\n",
       "      <td>10</td>\n",
       "      <td>https://i.redd.it/jq6vwcibzayc1.jpeg</td>\n",
       "    </tr>\n",
       "    <tr>\n",
       "      <th>487</th>\n",
       "      <td>Buddha apparently said it first, love no one 🥲 🤗</td>\n",
       "      <td>1.715276e+09</td>\n",
       "      <td>NaN</td>\n",
       "      <td>pussyknife</td>\n",
       "      <td>NaN</td>\n",
       "      <td>False</td>\n",
       "      <td>1co2yea</td>\n",
       "      <td>176</td>\n",
       "      <td>17</td>\n",
       "      <td>https://i.redd.it/mr16bl5ksfzc1.jpeg</td>\n",
       "    </tr>\n",
       "    <tr>\n",
       "      <th>250</th>\n",
       "      <td>“I’m a God. The worst kind of God, but a God n...</td>\n",
       "      <td>1.715889e+09</td>\n",
       "      <td>NaN</td>\n",
       "      <td>coleisw4ck</td>\n",
       "      <td>NaN</td>\n",
       "      <td>False</td>\n",
       "      <td>1ctm2i6</td>\n",
       "      <td>81</td>\n",
       "      <td>4</td>\n",
       "      <td>https://i.redd.it/dub8tggamzwc1.jpeg</td>\n",
       "    </tr>\n",
       "  </tbody>\n",
       "</table>\n",
       "</div>"
      ],
      "text/plain": [
       "                                                  Title     Post Date  \\\n",
       "467                                                 pov  1.715335e+09   \n",
       "1079                                                  😐  1.713191e+09   \n",
       "634                           reason why I ghost people  1.714782e+09   \n",
       "487    Buddha apparently said it first, love no one 🥲 🤗  1.715276e+09   \n",
       "250   “I’m a God. The worst kind of God, but a God n...  1.715889e+09   \n",
       "\n",
       "                        Post Text              Author Author Flair  \\\n",
       "467                           NaN          coleisw4ck          NaN   \n",
       "1079  y'all are 👑 and I love you   Glittering-War5185          NaN   \n",
       "634                           NaN   bipolarbisexual69          NaN   \n",
       "487                           NaN          pussyknife          NaN   \n",
       "250                           NaN          coleisw4ck          NaN   \n",
       "\n",
       "      Original Content       ID  Score  Total Comments  \\\n",
       "467              False  1colqro     41               2   \n",
       "1079             False  1c4ncw0     56               0   \n",
       "634              False  1cjnded    371              10   \n",
       "487              False  1co2yea    176              17   \n",
       "250              False  1ctm2i6     81               4   \n",
       "\n",
       "                                  Post URL  \n",
       "467   https://i.redd.it/ey097sdqmkzc1.jpeg  \n",
       "1079   https://i.redd.it/wp5prcedjnuc1.png  \n",
       "634   https://i.redd.it/jq6vwcibzayc1.jpeg  \n",
       "487   https://i.redd.it/mr16bl5ksfzc1.jpeg  \n",
       "250   https://i.redd.it/dub8tggamzwc1.jpeg  "
      ]
     },
     "execution_count": 6,
     "metadata": {},
     "output_type": "execute_result"
    }
   ],
   "source": [
    "post_dfs['BPDmemes'].sample(5)"
   ]
  },
  {
   "cell_type": "code",
   "execution_count": 4,
   "metadata": {},
   "outputs": [
    {
     "name": "stdout",
     "output_type": "stream",
     "text": [
      "9058 total posts\n"
     ]
    }
   ],
   "source": [
    "length = 0\n",
    "\n",
    "for subreddit in subreddits:\n",
    "    length += len(post_dfs[subreddit])\n",
    "\n",
    "print(length,'total posts')"
   ]
  },
  {
   "cell_type": "code",
   "execution_count": null,
   "metadata": {},
   "outputs": [],
   "source": [
    "#6929"
   ]
  },
  {
   "cell_type": "code",
   "execution_count": 4,
   "metadata": {},
   "outputs": [
    {
     "name": "stdout",
     "output_type": "stream",
     "text": [
      "r/BPD comments dataframe has length 7418\n",
      "r/BorderlinePDisorder comments dataframe has length 9176\n",
      "r/BPDmemes comments dataframe has length 8417\n",
      "r/SuicideWatch comments dataframe has length 5349\n",
      "r/QuietBPD comments dataframe has length 44\n",
      "r/BPDrecovery comments dataframe has length 4936\n",
      "r/mentalhealth comments dataframe has length 4539\n",
      "r/BPDsupport comments dataframe has length 2718\n"
     ]
    }
   ],
   "source": [
    "# create empty dictionary for subreddit dataframes\n",
    "comment_dfs = dict.fromkeys(subreddits)\n",
    "\n",
    "# fill dictionary with dataframes\n",
    "for subreddit in subreddits:\n",
    "    comment_dfs[subreddit]= pd.read_csv('data/comments/'+subreddit+'_comments.csv')\n",
    "    print('r/'+subreddit,'comments dataframe has length',len(comment_dfs[subreddit]))"
   ]
  },
  {
   "cell_type": "code",
   "execution_count": 8,
   "metadata": {},
   "outputs": [
    {
     "data": {
      "text/html": [
       "<div>\n",
       "<style scoped>\n",
       "    .dataframe tbody tr th:only-of-type {\n",
       "        vertical-align: middle;\n",
       "    }\n",
       "\n",
       "    .dataframe tbody tr th {\n",
       "        vertical-align: top;\n",
       "    }\n",
       "\n",
       "    .dataframe thead th {\n",
       "        text-align: right;\n",
       "    }\n",
       "</style>\n",
       "<table border=\"1\" class=\"dataframe\">\n",
       "  <thead>\n",
       "    <tr style=\"text-align: right;\">\n",
       "      <th></th>\n",
       "      <th>ID</th>\n",
       "      <th>Comment</th>\n",
       "      <th>Author</th>\n",
       "      <th>OP</th>\n",
       "      <th>Post Date</th>\n",
       "    </tr>\n",
       "  </thead>\n",
       "  <tbody>\n",
       "    <tr>\n",
       "      <th>5303</th>\n",
       "      <td>1cheqpx</td>\n",
       "      <td>I knew I wasn’t supposed to do it(I know I sho...</td>\n",
       "      <td>PastaMakerFullOfBean</td>\n",
       "      <td>False</td>\n",
       "      <td>1.714592e+09</td>\n",
       "    </tr>\n",
       "    <tr>\n",
       "      <th>7682</th>\n",
       "      <td>1cak101</td>\n",
       "      <td>Inspiring✨</td>\n",
       "      <td>ivee7</td>\n",
       "      <td>True</td>\n",
       "      <td>1.713880e+09</td>\n",
       "    </tr>\n",
       "  </tbody>\n",
       "</table>\n",
       "</div>"
      ],
      "text/plain": [
       "           ID                                            Comment  \\\n",
       "5303  1cheqpx  I knew I wasn’t supposed to do it(I know I sho...   \n",
       "7682  1cak101                                         Inspiring✨   \n",
       "\n",
       "                    Author     OP     Post Date  \n",
       "5303  PastaMakerFullOfBean  False  1.714592e+09  \n",
       "7682                 ivee7   True  1.713880e+09  "
      ]
     },
     "execution_count": 8,
     "metadata": {},
     "output_type": "execute_result"
    }
   ],
   "source": [
    "comment_dfs['BorderlinePDisorder'].sample(2)"
   ]
  },
  {
   "cell_type": "code",
   "execution_count": 5,
   "metadata": {},
   "outputs": [
    {
     "name": "stdout",
     "output_type": "stream",
     "text": [
      "42597 total comments\n"
     ]
    }
   ],
   "source": [
    "length = 0\n",
    "\n",
    "for subreddit in subreddits:\n",
    "    length += len(comment_dfs[subreddit])\n",
    "\n",
    "print(length,'total comments')"
   ]
  },
  {
   "cell_type": "code",
   "execution_count": 8,
   "metadata": {},
   "outputs": [
    {
     "data": {
      "text/plain": [
       "51588"
      ]
     },
     "execution_count": 8,
     "metadata": {},
     "output_type": "execute_result"
    }
   ],
   "source": [
    "#36565 total comments on first pass\n",
    "8991 + 42597"
   ]
  },
  {
   "cell_type": "code",
   "execution_count": 9,
   "metadata": {},
   "outputs": [],
   "source": [
    "mitch_df = pd.read_csv('data/merged/mitch_master_data.csv')"
   ]
  },
  {
   "cell_type": "code",
   "execution_count": 10,
   "metadata": {},
   "outputs": [
    {
     "name": "stdout",
     "output_type": "stream",
     "text": [
      "<class 'pandas.core.frame.DataFrame'>\n",
      "RangeIndex: 49496 entries, 0 to 49495\n",
      "Data columns (total 8 columns):\n",
      " #   Column     Non-Null Count  Dtype  \n",
      "---  ------     --------------  -----  \n",
      " 0   ID         49496 non-null  object \n",
      " 1   Title      49496 non-null  object \n",
      " 2   Text       49496 non-null  object \n",
      " 3   Author     49496 non-null  object \n",
      " 4   OP         49496 non-null  int64  \n",
      " 5   Is Post    49496 non-null  int64  \n",
      " 6   Post Date  49496 non-null  float64\n",
      " 7   Subreddit  49496 non-null  object \n",
      "dtypes: float64(1), int64(2), object(5)\n",
      "memory usage: 3.0+ MB\n"
     ]
    }
   ],
   "source": [
    "mitch_df.info()"
   ]
  },
  {
   "cell_type": "code",
   "execution_count": 12,
   "metadata": {},
   "outputs": [
    {
     "data": {
      "text/plain": [
       "Is Post\n",
       "0    40757\n",
       "1     8739\n",
       "Name: count, dtype: int64"
      ]
     },
     "execution_count": 12,
     "metadata": {},
     "output_type": "execute_result"
    }
   ],
   "source": [
    "mitch_df['Is Post'].value_counts()"
   ]
  }
 ],
 "metadata": {
  "kernelspec": {
   "display_name": "erdos_may_2024",
   "language": "python",
   "name": "python3"
  },
  "language_info": {
   "codemirror_mode": {
    "name": "ipython",
    "version": 3
   },
   "file_extension": ".py",
   "mimetype": "text/x-python",
   "name": "python",
   "nbconvert_exporter": "python",
   "pygments_lexer": "ipython3",
   "version": "3.11.9"
  }
 },
 "nbformat": 4,
 "nbformat_minor": 2
}
