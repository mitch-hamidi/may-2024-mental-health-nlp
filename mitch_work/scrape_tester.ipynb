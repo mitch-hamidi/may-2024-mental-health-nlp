{
 "cells": [
  {
   "cell_type": "code",
   "execution_count": 2,
   "metadata": {},
   "outputs": [],
   "source": [
    "import numpy as np\n",
    "import pandas as pd\n",
    "import praw\n",
    "import time\n",
    "\n",
    "from my_praw_info import get_client_id, get_client_secret, get_user_agent\n",
    "\n",
    "# create a Reddit read-only instance\n",
    "reddit = praw.Reddit(client_id=get_client_id(),\n",
    "                    client_secret=get_client_secret(),\n",
    "                    user_agent=get_user_agent())"
   ]
  },
  {
   "cell_type": "code",
   "execution_count": 3,
   "metadata": {},
   "outputs": [],
   "source": [
    "from subreddit_list import subreddit_list\n",
    "\n",
    "subreddits = subreddit_list()"
   ]
  },
  {
   "cell_type": "code",
   "execution_count": 4,
   "metadata": {},
   "outputs": [
    {
     "name": "stdout",
     "output_type": "stream",
     "text": [
      "r/BPD posts dataframe has length 1000\n",
      "r/BorderlinePDisorder posts dataframe has length 997\n",
      "r/BPDmemes posts dataframe has length 989\n",
      "r/SuicideWatch posts dataframe has length 990\n",
      "r/QuietBPD posts dataframe has length 9\n",
      "r/BPDrecovery posts dataframe has length 965\n",
      "r/mentalhealth posts dataframe has length 996\n",
      "r/BPDsupport posts dataframe has length 983\n"
     ]
    }
   ],
   "source": [
    "# create empty dictionary for subreddit dataframes\n",
    "post_dfs = dict.fromkeys(subreddits)\n",
    "\n",
    "# fill dictionary with dataframes\n",
    "for subreddit in subreddits:\n",
    "    post_dfs[subreddit]= pd.read_csv('data/posts/'+subreddit+'.csv')\n",
    "    print('r/'+subreddit,'posts dataframe has length',len(post_dfs[subreddit]))"
   ]
  },
  {
   "cell_type": "code",
   "execution_count": 5,
   "metadata": {},
   "outputs": [
    {
     "data": {
      "text/html": [
       "<div>\n",
       "<style scoped>\n",
       "    .dataframe tbody tr th:only-of-type {\n",
       "        vertical-align: middle;\n",
       "    }\n",
       "\n",
       "    .dataframe tbody tr th {\n",
       "        vertical-align: top;\n",
       "    }\n",
       "\n",
       "    .dataframe thead th {\n",
       "        text-align: right;\n",
       "    }\n",
       "</style>\n",
       "<table border=\"1\" class=\"dataframe\">\n",
       "  <thead>\n",
       "    <tr style=\"text-align: right;\">\n",
       "      <th></th>\n",
       "      <th>Title</th>\n",
       "      <th>Post Date</th>\n",
       "      <th>Post Text</th>\n",
       "      <th>Author</th>\n",
       "      <th>Author Flair</th>\n",
       "      <th>Original Content</th>\n",
       "      <th>ID</th>\n",
       "      <th>Score</th>\n",
       "      <th>Total Comments</th>\n",
       "      <th>Post URL</th>\n",
       "    </tr>\n",
       "  </thead>\n",
       "  <tbody>\n",
       "    <tr>\n",
       "      <th>592</th>\n",
       "      <td>Youngesters with BPD</td>\n",
       "      <td>1.714637e+09</td>\n",
       "      <td>Any young people here who have diagnosed BPD? ...</td>\n",
       "      <td>dumbcat664</td>\n",
       "      <td>NaN</td>\n",
       "      <td>False</td>\n",
       "      <td>1cia3e1</td>\n",
       "      <td>5</td>\n",
       "      <td>11</td>\n",
       "      <td>https://www.reddit.com/r/BorderlinePDisorder/c...</td>\n",
       "    </tr>\n",
       "    <tr>\n",
       "      <th>127</th>\n",
       "      <td>Dont know what to do about my therapist</td>\n",
       "      <td>1.715865e+09</td>\n",
       "      <td>Ive been seeing a therapist the past month so ...</td>\n",
       "      <td>OkCaterpillar3483</td>\n",
       "      <td>NaN</td>\n",
       "      <td>False</td>\n",
       "      <td>1ctci06</td>\n",
       "      <td>0</td>\n",
       "      <td>2</td>\n",
       "      <td>https://www.reddit.com/r/BorderlinePDisorder/c...</td>\n",
       "    </tr>\n",
       "  </tbody>\n",
       "</table>\n",
       "</div>"
      ],
      "text/plain": [
       "                                       Title     Post Date  \\\n",
       "592                    Youngesters with BPD   1.714637e+09   \n",
       "127  Dont know what to do about my therapist  1.715865e+09   \n",
       "\n",
       "                                             Post Text             Author  \\\n",
       "592  Any young people here who have diagnosed BPD? ...         dumbcat664   \n",
       "127  Ive been seeing a therapist the past month so ...  OkCaterpillar3483   \n",
       "\n",
       "    Author Flair  Original Content       ID  Score  Total Comments  \\\n",
       "592          NaN             False  1cia3e1      5              11   \n",
       "127          NaN             False  1ctci06      0               2   \n",
       "\n",
       "                                              Post URL  \n",
       "592  https://www.reddit.com/r/BorderlinePDisorder/c...  \n",
       "127  https://www.reddit.com/r/BorderlinePDisorder/c...  "
      ]
     },
     "execution_count": 5,
     "metadata": {},
     "output_type": "execute_result"
    }
   ],
   "source": [
    "post_dfs['BorderlinePDisorder'].sample(2)"
   ]
  },
  {
   "cell_type": "code",
   "execution_count": 6,
   "metadata": {},
   "outputs": [
    {
     "name": "stdout",
     "output_type": "stream",
     "text": [
      "6929 total posts\n"
     ]
    }
   ],
   "source": [
    "length = 0\n",
    "\n",
    "for subreddit in subreddits:\n",
    "    length += len(post_dfs[subreddit])\n",
    "\n",
    "print(length,'total posts')"
   ]
  },
  {
   "cell_type": "code",
   "execution_count": 10,
   "metadata": {},
   "outputs": [
    {
     "name": "stdout",
     "output_type": "stream",
     "text": [
      "r/BPD comments dataframe has length 7229\n",
      "r/BorderlinePDisorder comments dataframe has length 8426\n",
      "r/BPDmemes comments dataframe has length 7893\n",
      "r/SuicideWatch comments dataframe has length 2735\n",
      "r/QuietBPD comments dataframe has length 44\n",
      "r/BPDrecovery comments dataframe has length 4965\n",
      "r/mentalhealth comments dataframe has length 2584\n",
      "r/BPDsupport comments dataframe has length 2689\n"
     ]
    }
   ],
   "source": [
    "# create empty dictionary for subreddit dataframes\n",
    "comment_dfs = dict.fromkeys(subreddits)\n",
    "\n",
    "# fill dictionary with dataframes\n",
    "for subreddit in subreddits:\n",
    "    comment_dfs[subreddit]= pd.read_csv('data/comments/'+subreddit+'_comments.csv')\n",
    "    print('r/'+subreddit,'comments dataframe has length',len(comment_dfs[subreddit]))"
   ]
  },
  {
   "cell_type": "code",
   "execution_count": 8,
   "metadata": {},
   "outputs": [
    {
     "data": {
      "text/html": [
       "<div>\n",
       "<style scoped>\n",
       "    .dataframe tbody tr th:only-of-type {\n",
       "        vertical-align: middle;\n",
       "    }\n",
       "\n",
       "    .dataframe tbody tr th {\n",
       "        vertical-align: top;\n",
       "    }\n",
       "\n",
       "    .dataframe thead th {\n",
       "        text-align: right;\n",
       "    }\n",
       "</style>\n",
       "<table border=\"1\" class=\"dataframe\">\n",
       "  <thead>\n",
       "    <tr style=\"text-align: right;\">\n",
       "      <th></th>\n",
       "      <th>ID</th>\n",
       "      <th>Comment</th>\n",
       "      <th>Author</th>\n",
       "      <th>OP</th>\n",
       "      <th>Post Date</th>\n",
       "    </tr>\n",
       "  </thead>\n",
       "  <tbody>\n",
       "    <tr>\n",
       "      <th>5303</th>\n",
       "      <td>1cheqpx</td>\n",
       "      <td>I knew I wasn’t supposed to do it(I know I sho...</td>\n",
       "      <td>PastaMakerFullOfBean</td>\n",
       "      <td>False</td>\n",
       "      <td>1.714592e+09</td>\n",
       "    </tr>\n",
       "    <tr>\n",
       "      <th>7682</th>\n",
       "      <td>1cak101</td>\n",
       "      <td>Inspiring✨</td>\n",
       "      <td>ivee7</td>\n",
       "      <td>True</td>\n",
       "      <td>1.713880e+09</td>\n",
       "    </tr>\n",
       "  </tbody>\n",
       "</table>\n",
       "</div>"
      ],
      "text/plain": [
       "           ID                                            Comment  \\\n",
       "5303  1cheqpx  I knew I wasn’t supposed to do it(I know I sho...   \n",
       "7682  1cak101                                         Inspiring✨   \n",
       "\n",
       "                    Author     OP     Post Date  \n",
       "5303  PastaMakerFullOfBean  False  1.714592e+09  \n",
       "7682                 ivee7   True  1.713880e+09  "
      ]
     },
     "execution_count": 8,
     "metadata": {},
     "output_type": "execute_result"
    }
   ],
   "source": [
    "comment_dfs['BorderlinePDisorder'].sample(2)"
   ]
  },
  {
   "cell_type": "code",
   "execution_count": 11,
   "metadata": {},
   "outputs": [
    {
     "name": "stdout",
     "output_type": "stream",
     "text": [
      "36565 total comments\n"
     ]
    }
   ],
   "source": [
    "length = 0\n",
    "\n",
    "for subreddit in subreddits:\n",
    "    length += len(comment_dfs[subreddit])\n",
    "\n",
    "print(length,'total comments')"
   ]
  }
 ],
 "metadata": {
  "kernelspec": {
   "display_name": "erdos_may_2024",
   "language": "python",
   "name": "python3"
  },
  "language_info": {
   "codemirror_mode": {
    "name": "ipython",
    "version": 3
   },
   "file_extension": ".py",
   "mimetype": "text/x-python",
   "name": "python",
   "nbconvert_exporter": "python",
   "pygments_lexer": "ipython3",
   "version": "3.11.9"
  }
 },
 "nbformat": 4,
 "nbformat_minor": 2
}
