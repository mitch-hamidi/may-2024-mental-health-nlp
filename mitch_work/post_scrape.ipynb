{
 "cells": [
  {
   "cell_type": "code",
   "execution_count": 3,
   "metadata": {},
   "outputs": [],
   "source": [
    "#import post scraping function\n",
    "from reddit_scrape import reddit_scrape"
   ]
  },
  {
   "cell_type": "code",
   "execution_count": 2,
   "metadata": {},
   "outputs": [
    {
     "name": "stdout",
     "output_type": "stream",
     "text": [
      "Successfully scraped r/ BorderlinePDisorder\n",
      "Successfully appended BorderlinePDisorder .csv\n",
      "Delaying 6 minutes\n",
      "Successfully scraped r/ BPDmemes\n",
      "Successfully appended BPDmemes .csv\n",
      "Delaying 5 minutes\n",
      "Successfully scraped r/ SuicideWatch\n",
      "Successfully appended SuicideWatch .csv\n",
      "Delaying 5 minutes\n",
      "Successfully scraped r/ QuietBPD\n",
      "Successfully appended QuietBPD .csv\n",
      "Delaying 5 minutes\n",
      "Successfully scraped r/ BPDrecovery\n",
      "Successfully appended BPDrecovery .csv\n",
      "Delaying 6 minutes\n",
      "Successfully scraped r/ mentalhealth\n",
      "Successfully appended mentalhealth .csv\n",
      "Delaying 8 minutes\n",
      "Successfully scraped r/ BPDsupport\n",
      "Successfully appended BPDsupport .csv\n",
      "Delaying 6 minutes\n"
     ]
    }
   ],
   "source": [
    "reddit_scrape()"
   ]
  },
  {
   "cell_type": "code",
   "execution_count": 1,
   "metadata": {},
   "outputs": [],
   "source": [
    "# import comment scraping function\n",
    "from comment_scrape import comment_scrape"
   ]
  },
  {
   "cell_type": "code",
   "execution_count": 2,
   "metadata": {},
   "outputs": [
    {
     "name": "stdout",
     "output_type": "stream",
     "text": [
      "Completed 99 posts. Delaying 5 minutes\n",
      "Completed 199 posts. Delaying 5 minutes\n",
      "Completed 299 posts. Delaying 4 minutes\n",
      "Completed 399 posts. Delaying 4 minutes\n",
      "Completed 499 posts. Delaying 5 minutes\n",
      "Completed 599 posts. Delaying 4 minutes\n",
      "Completed 699 posts. Delaying 5 minutes\n",
      "Completed 799 posts. Delaying 4 minutes\n",
      "Completed 899 posts. Delaying 5 minutes\n",
      "Successfully appended BorderlinePDisorder_comments.csv\n",
      "Completed 99 posts. Delaying 4 minutes\n",
      "Completed 199 posts. Delaying 5 minutes\n",
      "Completed 299 posts. Delaying 5 minutes\n",
      "Completed 399 posts. Delaying 5 minutes\n",
      "Completed 499 posts. Delaying 5 minutes\n",
      "Completed 599 posts. Delaying 4 minutes\n",
      "Completed 699 posts. Delaying 5 minutes\n",
      "Completed 799 posts. Delaying 4 minutes\n",
      "Completed 899 posts. Delaying 4 minutes\n",
      "Successfully appended BPDmemes_comments.csv\n",
      "Completed 99 posts. Delaying 4 minutes\n",
      "Completed 199 posts. Delaying 5 minutes\n",
      "Completed 299 posts. Delaying 4 minutes\n",
      "Completed 399 posts. Delaying 5 minutes\n",
      "Completed 499 posts. Delaying 4 minutes\n",
      "Completed 599 posts. Delaying 4 minutes\n",
      "Completed 699 posts. Delaying 5 minutes\n",
      "Completed 799 posts. Delaying 4 minutes\n",
      "Completed 899 posts. Delaying 4 minutes\n",
      "Successfully appended SuicideWatch_comments.csv\n",
      "Successfully appended QuietBPD_comments.csv\n",
      "Completed 99 posts. Delaying 5 minutes\n",
      "Completed 199 posts. Delaying 4 minutes\n",
      "Completed 299 posts. Delaying 4 minutes\n",
      "Completed 399 posts. Delaying 4 minutes\n",
      "Completed 499 posts. Delaying 5 minutes\n",
      "Completed 599 posts. Delaying 4 minutes\n",
      "Completed 699 posts. Delaying 5 minutes\n",
      "Completed 799 posts. Delaying 4 minutes\n",
      "Completed 899 posts. Delaying 4 minutes\n",
      "Successfully appended BPDrecovery_comments.csv\n",
      "Completed 99 posts. Delaying 4 minutes\n",
      "Completed 199 posts. Delaying 4 minutes\n",
      "Completed 299 posts. Delaying 5 minutes\n",
      "Completed 399 posts. Delaying 5 minutes\n",
      "Completed 499 posts. Delaying 4 minutes\n",
      "Completed 599 posts. Delaying 5 minutes\n",
      "Completed 699 posts. Delaying 5 minutes\n",
      "Completed 799 posts. Delaying 4 minutes\n",
      "Completed 899 posts. Delaying 5 minutes\n",
      "Successfully appended mentalhealth_comments.csv\n",
      "Completed 99 posts. Delaying 5 minutes\n",
      "Completed 199 posts. Delaying 4 minutes\n",
      "Completed 299 posts. Delaying 4 minutes\n",
      "Completed 399 posts. Delaying 5 minutes\n",
      "Completed 499 posts. Delaying 4 minutes\n",
      "Completed 599 posts. Delaying 5 minutes\n",
      "Completed 699 posts. Delaying 4 minutes\n",
      "Completed 799 posts. Delaying 5 minutes\n",
      "Completed 899 posts. Delaying 4 minutes\n",
      "Successfully appended BPDsupport_comments.csv\n"
     ]
    }
   ],
   "source": [
    "comment_scrape()"
   ]
  },
  {
   "cell_type": "markdown",
   "metadata": {},
   "source": [
    "### To-do:\n",
    "\n",
    "* Write a duplicate cleaning function\n",
    "* Write a merge function for Mitch data\n",
    "* Write a merge function for everyone's data"
   ]
  }
 ],
 "metadata": {
  "kernelspec": {
   "display_name": "erdos_may_2024",
   "language": "python",
   "name": "python3"
  },
  "language_info": {
   "codemirror_mode": {
    "name": "ipython",
    "version": 3
   },
   "file_extension": ".py",
   "mimetype": "text/x-python",
   "name": "python",
   "nbconvert_exporter": "python",
   "pygments_lexer": "ipython3",
   "version": "3.11.9"
  }
 },
 "nbformat": 4,
 "nbformat_minor": 2
}
