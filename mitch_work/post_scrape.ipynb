{
 "cells": [
  {
   "cell_type": "markdown",
   "metadata": {},
   "source": [
    "# Scraping Reddit\n",
    "\n",
    "This notebook does the following:\n",
    "\n",
    "1. Scrapes posts from the list of subreddits found in `subreddit_list.py` and writes to `/data/posts`\n",
    "2. Cleans the post csv's by removing duplicates and copied headers\n",
    "3. Scrapes comments from the list of subreddits found in `subreddit_list.py` and writes to `/data/comments`\n",
    "4. Cleans the comment csv's by removing duplicates and copied headers"
   ]
  },
  {
   "cell_type": "code",
   "execution_count": 1,
   "metadata": {},
   "outputs": [
    {
     "name": "stdout",
     "output_type": "stream",
     "text": [
      "Successfully scraped r/BPD\n",
      "Successfully appended 998 pulled posts to data/posts/BPD.csv\n",
      "Delaying 6 minutes\n",
      "Successfully scraped r/BorderlinePDisorder\n",
      "Successfully appended 997 pulled posts to data/posts/BorderlinePDisorder.csv\n",
      "Delaying 6 minutes\n",
      "Successfully scraped r/BPDmemes\n",
      "Successfully appended 990 pulled posts to data/posts/BPDmemes.csv\n",
      "Delaying 4 minutes\n",
      "Successfully scraped r/SuicideWatch\n",
      "Successfully appended 990 pulled posts to data/posts/SuicideWatch.csv\n",
      "Delaying 7 minutes\n",
      "Successfully scraped r/QuietBPD\n",
      "Successfully appended 10 pulled posts to data/posts/QuietBPD.csv\n",
      "Delaying 5 minutes\n",
      "Successfully scraped r/BPDrecovery\n",
      "Successfully appended 967 pulled posts to data/posts/BPDrecovery.csv\n",
      "Delaying 8 minutes\n",
      "Successfully scraped r/mentalhealth\n",
      "Successfully appended 994 pulled posts to data/posts/mentalhealth.csv\n",
      "Delaying 8 minutes\n",
      "Successfully scraped r/BPDsupport\n",
      "Successfully appended 983 pulled posts to data/posts/BPDsupport.csv\n",
      "Delaying 6 minutes\n"
     ]
    }
   ],
   "source": [
    "#import post scraping function\n",
    "from reddit_scrape import reddit_scrape\n",
    "\n",
    "reddit_scrape()"
   ]
  },
  {
   "cell_type": "code",
   "execution_count": 2,
   "metadata": {},
   "outputs": [
    {
     "name": "stdout",
     "output_type": "stream",
     "text": [
      "904 duplicates dropped from data/posts/BPD.csv\n",
      "903 duplicates dropped from data/posts/BorderlinePDisorder.csv\n",
      "898 duplicates dropped from data/posts/BPDmemes.csv\n",
      "11 duplicates dropped from data/posts/SuicideWatch.csv\n",
      "9 duplicates dropped from data/posts/QuietBPD.csv\n",
      "960 duplicates dropped from data/posts/BPDrecovery.csv\n",
      "194 duplicates dropped from data/posts/mentalhealth.csv\n",
      "956 duplicates dropped from data/posts/BPDsupport.csv\n"
     ]
    }
   ],
   "source": [
    "# import post cleaning function\n",
    "from clean_post_csv import clean_post_csv\n",
    "\n",
    "# import subreddit list\n",
    "from subreddit_list import subreddit_list\n",
    "\n",
    "subreddits = subreddit_list()\n",
    "\n",
    "# loop and clean scraped post csv's\n",
    "for subreddit in subreddits:\n",
    "    filepath = 'data/posts/'+subreddit+'.csv'\n",
    "    clean_post_csv(filepath)"
   ]
  },
  {
   "cell_type": "code",
   "execution_count": 1,
   "metadata": {},
   "outputs": [
    {
     "name": "stdout",
     "output_type": "stream",
     "text": [
      "Completed 100 posts.\n",
      "Completed 200 posts.\n",
      "Completed 300 posts.\n",
      "Completed 400 posts.\n",
      "Completed 500 posts.\n",
      "Completed 600 posts.\n",
      "Completed 700 posts.\n",
      "Completed 800 posts.\n",
      "Completed 900 posts.\n",
      "Successfully appended 7460 pulled comments to data/comments/BPD_comments.csv\n",
      "Completed 100 posts.\n",
      "Completed 200 posts.\n",
      "Completed 300 posts.\n",
      "Completed 400 posts.\n",
      "Completed 500 posts.\n",
      "Completed 600 posts.\n",
      "Completed 700 posts.\n",
      "Completed 800 posts.\n",
      "Completed 900 posts.\n",
      "Completed 1000 posts.\n",
      "Successfully appended 9255 pulled comments to data/comments/BorderlinePDisorder_comments.csv\n",
      "Completed 100 posts.\n",
      "Completed 200 posts.\n",
      "Completed 300 posts.\n",
      "Completed 400 posts.\n",
      "Completed 500 posts.\n",
      "Completed 600 posts.\n",
      "Completed 700 posts.\n",
      "Completed 800 posts.\n",
      "Completed 900 posts.\n",
      "Completed 1000 posts.\n",
      "Successfully appended 8472 pulled comments to data/comments/BPDmemes_comments.csv\n",
      "Completed 100 posts.\n",
      "Completed 200 posts.\n",
      "Completed 300 posts.\n",
      "Completed 400 posts.\n",
      "Completed 500 posts.\n",
      "Completed 600 posts.\n",
      "Completed 700 posts.\n",
      "Completed 800 posts.\n",
      "Completed 900 posts.\n",
      "Completed 1000 posts.\n",
      "Completed 1100 posts.\n",
      "Completed 1200 posts.\n",
      "Completed 1300 posts.\n",
      "Completed 1400 posts.\n",
      "Completed 1500 posts.\n",
      "Completed 1600 posts.\n",
      "Completed 1700 posts.\n",
      "Completed 1800 posts.\n",
      "Completed 1900 posts.\n",
      "Successfully appended 5348 pulled comments to data/comments/SuicideWatch_comments.csv\n",
      "Successfully appended 45 pulled comments to data/comments/QuietBPD_comments.csv\n",
      "Completed 100 posts.\n",
      "Completed 200 posts.\n",
      "Completed 300 posts.\n",
      "Completed 400 posts.\n",
      "Completed 500 posts.\n",
      "Completed 600 posts.\n",
      "Completed 700 posts.\n",
      "Completed 800 posts.\n",
      "Completed 900 posts.\n",
      "Successfully appended 4994 pulled comments to data/comments/BPDrecovery_comments.csv\n",
      "Completed 100 posts.\n",
      "Completed 200 posts.\n",
      "Completed 300 posts.\n",
      "Completed 400 posts.\n",
      "Completed 500 posts.\n",
      "Completed 600 posts.\n",
      "Completed 700 posts.\n",
      "Completed 800 posts.\n",
      "Completed 900 posts.\n",
      "Completed 1000 posts.\n",
      "Completed 1100 posts.\n",
      "Completed 1200 posts.\n",
      "Completed 1300 posts.\n",
      "Completed 1400 posts.\n",
      "Completed 1500 posts.\n",
      "Completed 1600 posts.\n",
      "Completed 1700 posts.\n",
      "Successfully appended 4551 pulled comments to data/comments/mentalhealth_comments.csv\n",
      "Completed 100 posts.\n",
      "Completed 200 posts.\n",
      "Completed 300 posts.\n",
      "Completed 400 posts.\n",
      "Completed 500 posts.\n",
      "Completed 600 posts.\n",
      "Completed 700 posts.\n",
      "Completed 800 posts.\n",
      "Completed 900 posts.\n",
      "Completed 1000 posts.\n",
      "Successfully appended 2735 pulled comments to data/comments/BPDsupport_comments.csv\n"
     ]
    }
   ],
   "source": [
    "# import comment scraping function\n",
    "from comment_scrape import comment_scrape\n",
    "\n",
    "comment_scrape()"
   ]
  },
  {
   "cell_type": "code",
   "execution_count": 2,
   "metadata": {},
   "outputs": [
    {
     "name": "stdout",
     "output_type": "stream",
     "text": [
      "7204 duplicates dropped from data/comments/BPD_comments.csv\n",
      "8428 duplicates dropped from data/comments/BorderlinePDisorder_comments.csv\n",
      "7890 duplicates dropped from data/comments/BPDmemes_comments.csv\n",
      "2686 duplicates dropped from data/comments/SuicideWatch_comments.csv\n",
      "44 duplicates dropped from data/comments/QuietBPD_comments.csv\n",
      "4965 duplicates dropped from data/comments/BPDrecovery_comments.csv\n",
      "2582 duplicates dropped from data/comments/mentalhealth_comments.csv\n",
      "2690 duplicates dropped from data/comments/BPDsupport_comments.csv\n"
     ]
    }
   ],
   "source": [
    "# import post cleaning function\n",
    "from clean_comments_csv import clean_comments_csv\n",
    "\n",
    "# import subreddit list\n",
    "from subreddit_list import subreddit_list\n",
    "\n",
    "subreddits = subreddit_list()\n",
    "\n",
    "# loop and clean scraped post csv's\n",
    "for subreddit in subreddits:\n",
    "    filepath = 'data/comments/'+subreddit+'_comments.csv'\n",
    "    clean_comments_csv(filepath)"
   ]
  },
  {
   "cell_type": "markdown",
   "metadata": {},
   "source": [
    "### To-do:\n",
    "\n",
    "* Discuss data merge \n",
    "* Implement merge function for Mitch \n",
    "* Implement merge function for everyone's data"
   ]
  }
 ],
 "metadata": {
  "kernelspec": {
   "display_name": "erdos_may_2024",
   "language": "python",
   "name": "python3"
  },
  "language_info": {
   "codemirror_mode": {
    "name": "ipython",
    "version": 3
   },
   "file_extension": ".py",
   "mimetype": "text/x-python",
   "name": "python",
   "nbconvert_exporter": "python",
   "pygments_lexer": "ipython3",
   "version": "3.11.9"
  }
 },
 "nbformat": 4,
 "nbformat_minor": 2
}
