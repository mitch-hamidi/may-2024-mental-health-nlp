{
 "cells": [
  {
   "cell_type": "markdown",
   "metadata": {},
   "source": [
    "Since running the text analysis is going to cost money, it is important to get it right the first time and not need to debug at all. Therefore, I am creating some fake text analysis to make sure the functions work"
   ]
  },
  {
   "cell_type": "code",
   "execution_count": 1,
   "metadata": {},
   "outputs": [
    {
     "name": "stderr",
     "output_type": "stream",
     "text": [
      "/var/folders/9j/j4gyltgs6txd83bg66_mv4fn664jzt/T/ipykernel_17267/439187254.py:33: SettingWithCopyWarning: \n",
      "A value is trying to be set on a copy of a slice from a DataFrame.\n",
      "Try using .loc[row_indexer,col_indexer] = value instead\n",
      "\n",
      "See the caveats in the documentation: https://pandas.pydata.org/pandas-docs/stable/user_guide/indexing.html#returning-a-view-versus-a-copy\n",
      "  rows_with_medication[sentiment_col_name] = sentiments\n",
      "/var/folders/9j/j4gyltgs6txd83bg66_mv4fn664jzt/T/ipykernel_17267/439187254.py:34: SettingWithCopyWarning: \n",
      "A value is trying to be set on a copy of a slice from a DataFrame.\n",
      "Try using .loc[row_indexer,col_indexer] = value instead\n",
      "\n",
      "See the caveats in the documentation: https://pandas.pydata.org/pandas-docs/stable/user_guide/indexing.html#returning-a-view-versus-a-copy\n",
      "  rows_with_medication[reason_col_name] = reasons\n"
     ]
    },
    {
     "name": "stdout",
     "output_type": "stream",
     "text": [
      "Sentiment Breakdown:\n",
      "1: Count - 2, Percentage - 100.00%\n"
     ]
    },
    {
     "data": {
      "image/png": "[encoded data removed]",
      "text/plain": [
       "<Figure size 640x480 with 1 Axes>"
      ]
     },
     "metadata": {},
     "output_type": "display_data"
    }
   ],
   "source": [
    "import pandas as pd\n",
    "import matplotlib.pyplot as plt\n",
    "\n",
    "# Mock function to simulate the OpenAI API response\n",
    "def mock_get_medication_sentiment(medication_name, text):\n",
    "    # A mock response simulating the structure of the API response\n",
    "    return {'sentiment': '1', 'reason': 'The medication helped to treat the poster with minor side effects.'}\n",
    "\n",
    "# Sample function to get synonym for a medication\n",
    "def get_synonym(medication_name):\n",
    "    # Implement your logic to get synonyms here\n",
    "    return \"synonym\"\n",
    "\n",
    "# Sample DataFrame\n",
    "data = {\n",
    "    'combined_text': [\"Some discussion about medication A.\", \"Discussion about medication B.\", \"Discussion about medication A and B.\"],\n",
    "    'drug_names': [[\"medication A\"], [\"medication B\"], [\"medication A\", \"medication B\"]]\n",
    "}\n",
    "df_fake = pd.DataFrame(data)\n",
    "\n",
    "# Function to process DataFrame using the mock function\n",
    "def process_dataframe(df, medication_name, sentiment_function):\n",
    "    rows_with_medication = df[df['drug_names'].apply(lambda x: medication_name in x)]\n",
    "    sentiments = []\n",
    "    reasons = []\n",
    "    for index, row in rows_with_medication.iterrows():\n",
    "        text = row['combined_text']\n",
    "        sentiment_reason = sentiment_function(medication_name, text)\n",
    "        sentiments.append(sentiment_reason['sentiment'])\n",
    "        reasons.append(sentiment_reason['reason'])\n",
    "    sentiment_col_name = f'sentiment_{medication_name}'\n",
    "    reason_col_name = f'reason_{medication_name}'\n",
    "    rows_with_medication[sentiment_col_name] = sentiments\n",
    "    rows_with_medication[reason_col_name] = reasons\n",
    "    return rows_with_medication\n",
    "\n",
    "# Function to provide breakdown of sentiment for a medication\n",
    "def sentiment_breakdown(df, sentiment_col_name):\n",
    "    numeric_sentiments = df[sentiment_col_name].loc[df[sentiment_col_name].astype(str).str.isnumeric()].astype(int)\n",
    "    sentiment_counts = numeric_sentiments.value_counts()\n",
    "    total = len(df)  # Total number of sentiments, including non-numeric\n",
    "    breakdown = {}\n",
    "    for sentiment, count in sentiment_counts.items():\n",
    "        percentage = (count / total) * 100\n",
    "        breakdown[str(sentiment)] = {'count': count, 'percentage': percentage}\n",
    "    \n",
    "    non_numeric_sentiments = df[sentiment_col_name].loc[~df[sentiment_col_name].astype(str).str.isnumeric()]\n",
    "    for sentiment in non_numeric_sentiments.unique():\n",
    "        count = non_numeric_sentiments.eq(sentiment).sum()\n",
    "        percentage = (count / total) * 100\n",
    "        breakdown[sentiment] = {'count': count, 'percentage': percentage}\n",
    "    \n",
    "    return breakdown\n",
    "\n",
    "# Function to plot histogram of sentiment counts\n",
    "def plot_sentiment_histogram(df, sentiment_col_name):\n",
    "    sentiment_counts = df[sentiment_col_name].value_counts()\n",
    "    plt.bar(sentiment_counts.index.astype(str), sentiment_counts.values)\n",
    "    plt.xlabel('Sentiment')\n",
    "    plt.ylabel('Count')\n",
    "    plt.title('Histogram of Sentiment Counts')\n",
    "    plt.show()\n",
    "\n",
    "# Example usage\n",
    "medication_name = 'medication A'\n",
    "# Using the mock function for testing\n",
    "result_df = process_dataframe(df_fake, medication_name, mock_get_medication_sentiment)\n",
    "\n",
    "# Get sentiment breakdown\n",
    "sentiment_col_name = f'sentiment_{medication_name}'\n",
    "breakdown = sentiment_breakdown(result_df, sentiment_col_name)\n",
    "print(\"Sentiment Breakdown:\")\n",
    "for sentiment, data in breakdown.items():\n",
    "    print(f\"{sentiment}: Count - {data['count']}, Percentage - {data['percentage']:.2f}%\")\n",
    "\n",
    "# Plot histogram of sentiment counts\n",
    "plot_sentiment_histogram(result_df, sentiment_col_name)\n"
   ]
  },
  {
   "cell_type": "code",
   "execution_count": 2,
   "metadata": {},
   "outputs": [
    {
     "data": {
      "text/html": [
       "<div>\n",
       "<style scoped>\n",
       "    .dataframe tbody tr th:only-of-type {\n",
       "        vertical-align: middle;\n",
       "    }\n",
       "\n",
       "    .dataframe tbody tr th {\n",
       "        vertical-align: top;\n",
       "    }\n",
       "\n",
       "    .dataframe thead th {\n",
       "        text-align: right;\n",
       "    }\n",
       "</style>\n",
       "<table border=\"1\" class=\"dataframe\">\n",
       "  <thead>\n",
       "    <tr style=\"text-align: right;\">\n",
       "      <th></th>\n",
       "      <th>combined_text</th>\n",
       "      <th>drug_names</th>\n",
       "    </tr>\n",
       "  </thead>\n",
       "  <tbody>\n",
       "    <tr>\n",
       "      <th>0</th>\n",
       "      <td>Some discussion about medication A.</td>\n",
       "      <td>[medication A]</td>\n",
       "    </tr>\n",
       "    <tr>\n",
       "      <th>1</th>\n",
       "      <td>Discussion about medication B.</td>\n",
       "      <td>[medication B]</td>\n",
       "    </tr>\n",
       "    <tr>\n",
       "      <th>2</th>\n",
       "      <td>Discussion about medication A and B.</td>\n",
       "      <td>[medication A, medication B]</td>\n",
       "    </tr>\n",
       "  </tbody>\n",
       "</table>\n",
       "</div>"
      ],
      "text/plain": [
       "                          combined_text                    drug_names\n",
       "0   Some discussion about medication A.                [medication A]\n",
       "1        Discussion about medication B.                [medication B]\n",
       "2  Discussion about medication A and B.  [medication A, medication B]"
      ]
     },
     "execution_count": 2,
     "metadata": {},
     "output_type": "execute_result"
    }
   ],
   "source": [
    "df_fake.head()"
   ]
  },
  {
   "cell_type": "code",
   "execution_count": 3,
   "metadata": {},
   "outputs": [
    {
     "data": {
      "text/html": [
       "<div>\n",
       "<style scoped>\n",
       "    .dataframe tbody tr th:only-of-type {\n",
       "        vertical-align: middle;\n",
       "    }\n",
       "\n",
       "    .dataframe tbody tr th {\n",
       "        vertical-align: top;\n",
       "    }\n",
       "\n",
       "    .dataframe thead th {\n",
       "        text-align: right;\n",
       "    }\n",
       "</style>\n",
       "<table border=\"1\" class=\"dataframe\">\n",
       "  <thead>\n",
       "    <tr style=\"text-align: right;\">\n",
       "      <th></th>\n",
       "      <th>combined_text</th>\n",
       "      <th>drug_names</th>\n",
       "      <th>sentiment_medication A</th>\n",
       "      <th>reason_medication A</th>\n",
       "    </tr>\n",
       "  </thead>\n",
       "  <tbody>\n",
       "    <tr>\n",
       "      <th>0</th>\n",
       "      <td>Some discussion about medication A.</td>\n",
       "      <td>[medication A]</td>\n",
       "      <td>1</td>\n",
       "      <td>The medication helped to treat the poster with...</td>\n",
       "    </tr>\n",
       "    <tr>\n",
       "      <th>2</th>\n",
       "      <td>Discussion about medication A and B.</td>\n",
       "      <td>[medication A, medication B]</td>\n",
       "      <td>1</td>\n",
       "      <td>The medication helped to treat the poster with...</td>\n",
       "    </tr>\n",
       "  </tbody>\n",
       "</table>\n",
       "</div>"
      ],
      "text/plain": [
       "                          combined_text                    drug_names  \\\n",
       "0   Some discussion about medication A.                [medication A]   \n",
       "2  Discussion about medication A and B.  [medication A, medication B]   \n",
       "\n",
       "  sentiment_medication A                                reason_medication A  \n",
       "0                      1  The medication helped to treat the poster with...  \n",
       "2                      1  The medication helped to treat the poster with...  "
      ]
     },
     "execution_count": 3,
     "metadata": {},
     "output_type": "execute_result"
    }
   ],
   "source": [
    "result_df.head()"
   ]
  },
  {
   "cell_type": "code",
   "execution_count": 9,
   "metadata": {},
   "outputs": [
    {
     "name": "stderr",
     "output_type": "stream",
     "text": [
      "/var/folders/9j/j4gyltgs6txd83bg66_mv4fn664jzt/T/ipykernel_17267/1956634982.py:33: SettingWithCopyWarning: \n",
      "A value is trying to be set on a copy of a slice from a DataFrame.\n",
      "Try using .loc[row_indexer,col_indexer] = value instead\n",
      "\n",
      "See the caveats in the documentation: https://pandas.pydata.org/pandas-docs/stable/user_guide/indexing.html#returning-a-view-versus-a-copy\n",
      "  rows_with_medication[sentiment_col_name] = sentiments\n",
      "/var/folders/9j/j4gyltgs6txd83bg66_mv4fn664jzt/T/ipykernel_17267/1956634982.py:34: SettingWithCopyWarning: \n",
      "A value is trying to be set on a copy of a slice from a DataFrame.\n",
      "Try using .loc[row_indexer,col_indexer] = value instead\n",
      "\n",
      "See the caveats in the documentation: https://pandas.pydata.org/pandas-docs/stable/user_guide/indexing.html#returning-a-view-versus-a-copy\n",
      "  rows_with_medication[reason_col_name] = reasons\n"
     ]
    },
    {
     "name": "stdout",
     "output_type": "stream",
     "text": [
      "Sentiment Breakdown:\n",
      "1: Count - 2, Percentage - 100.00%\n"
     ]
    },
    {
     "data": {
      "image/png": "[encoded data removed]",
      "text/plain": [
       "<Figure size 640x480 with 1 Axes>"
      ]
     },
     "metadata": {},
     "output_type": "display_data"
    }
   ],
   "source": [
    "import pandas as pd\n",
    "import matplotlib.pyplot as plt\n",
    "\n",
    "# Mock function to simulate the OpenAI API response\n",
    "def mock_get_medication_sentiment(medication_name, text):\n",
    "    # A mock response simulating the structure of the API response\n",
    "    return {'sentiment': '1', 'reason': 'The medication helped to treat the poster with minor side effects.'}\n",
    "\n",
    "# Sample function to get synonym for a medication\n",
    "def get_synonym(medication_name):\n",
    "    # Implement your logic to get synonyms here\n",
    "    return \"synonym\"\n",
    "\n",
    "# Sample DataFrame\n",
    "data = {\n",
    "    'combined_text': [\"Some discussion about medication A.\", \"Discussion about medication B.\", \"Discussion about medication A and B.\"],\n",
    "    'drug_names': [[\"medication_A\"], [\"medication_B\"], [\"medication_A\", \"medication_B\"]]\n",
    "}\n",
    "df = pd.DataFrame(data)\n",
    "\n",
    "# Function to process DataFrame using the mock function\n",
    "def process_dataframe(df, medication_name, sentiment_function):\n",
    "    rows_with_medication = df[df['drug_names'].apply(lambda x: medication_name in x)]\n",
    "    sentiments = []\n",
    "    reasons = []\n",
    "    for index, row in rows_with_medication.iterrows():\n",
    "        text = row['combined_text']\n",
    "        sentiment_reason = sentiment_function(medication_name, text)\n",
    "        sentiments.append(sentiment_reason['sentiment'])\n",
    "        reasons.append(sentiment_reason['reason'])\n",
    "    sentiment_col_name = f'sentiment_{medication_name}'\n",
    "    reason_col_name = f'reason_{medication_name}'\n",
    "    rows_with_medication[sentiment_col_name] = sentiments\n",
    "    rows_with_medication[reason_col_name] = reasons\n",
    "    return rows_with_medication\n",
    "\n",
    "# Function to provide breakdown of sentiment for a medication\n",
    "def sentiment_breakdown(df, sentiment_col_name):\n",
    "    numeric_sentiments = df[sentiment_col_name].loc[df[sentiment_col_name].astype(str).str.isnumeric()].astype(int)\n",
    "    sentiment_counts = numeric_sentiments.value_counts()\n",
    "    total = len(df)  # Total number of sentiments, including non-numeric\n",
    "    breakdown = {}\n",
    "    for sentiment, count in sentiment_counts.items():\n",
    "        percentage = (count / total) * 100\n",
    "        breakdown[str(sentiment)] = {'count': count, 'percentage': percentage}\n",
    "    \n",
    "    non_numeric_sentiments = df[sentiment_col_name].loc[~df[sentiment_col_name].astype(str).str.isnumeric()]\n",
    "    for sentiment in non_numeric_sentiments.unique():\n",
    "        count = non_numeric_sentiments.eq(sentiment).sum()\n",
    "        percentage = (count / total) * 100\n",
    "        breakdown[sentiment] = {'count': count, 'percentage': percentage}\n",
    "    \n",
    "    return breakdown\n",
    "\n",
    "# Function to plot histogram of sentiment counts\n",
    "def plot_sentiment_histogram(df, sentiment_col_name):\n",
    "    sentiment_counts = df[sentiment_col_name].value_counts()\n",
    "    plt.bar(sentiment_counts.index.astype(str), sentiment_counts.values)\n",
    "    plt.xlabel('Sentiment')\n",
    "    plt.ylabel('Count')\n",
    "    plt.title('Histogram of Sentiment Counts')\n",
    "    plt.show()\n",
    "\n",
    "# Example usage\n",
    "medication_name = 'medication_A'\n",
    "# Using the mock function for testing\n",
    "results_df_name = f'results_df_{medication_name}'\n",
    "globals()[results_df_name] = process_dataframe(df, medication_name, mock_get_medication_sentiment)\n",
    "\n",
    "# Get sentiment breakdown\n",
    "sentiment_col_name = f'sentiment_{medication_name}'\n",
    "breakdown = sentiment_breakdown(globals()[results_df_name], sentiment_col_name)\n",
    "print(\"Sentiment Breakdown:\")\n",
    "for sentiment, data in breakdown.items():\n",
    "    print(f\"{sentiment}: Count - {data['count']}, Percentage - {data['percentage']:.2f}%\")\n",
    "\n",
    "# Plot histogram of sentiment counts\n",
    "plot_sentiment_histogram(globals()[results_df_name], sentiment_col_name)\n"
   ]
  },
  {
   "cell_type": "code",
   "execution_count": 10,
   "metadata": {},
   "outputs": [
    {
     "data": {
      "text/html": [
       "<div>\n",
       "<style scoped>\n",
       "    .dataframe tbody tr th:only-of-type {\n",
       "        vertical-align: middle;\n",
       "    }\n",
       "\n",
       "    .dataframe tbody tr th {\n",
       "        vertical-align: top;\n",
       "    }\n",
       "\n",
       "    .dataframe thead th {\n",
       "        text-align: right;\n",
       "    }\n",
       "</style>\n",
       "<table border=\"1\" class=\"dataframe\">\n",
       "  <thead>\n",
       "    <tr style=\"text-align: right;\">\n",
       "      <th></th>\n",
       "      <th>combined_text</th>\n",
       "      <th>drug_names</th>\n",
       "      <th>sentiment_medication_A</th>\n",
       "      <th>reason_medication_A</th>\n",
       "    </tr>\n",
       "  </thead>\n",
       "  <tbody>\n",
       "    <tr>\n",
       "      <th>0</th>\n",
       "      <td>Some discussion about medication A.</td>\n",
       "      <td>[medication_A]</td>\n",
       "      <td>1</td>\n",
       "      <td>The medication helped to treat the poster with...</td>\n",
       "    </tr>\n",
       "    <tr>\n",
       "      <th>2</th>\n",
       "      <td>Discussion about medication A and B.</td>\n",
       "      <td>[medication_A, medication_B]</td>\n",
       "      <td>1</td>\n",
       "      <td>The medication helped to treat the poster with...</td>\n",
       "    </tr>\n",
       "  </tbody>\n",
       "</table>\n",
       "</div>"
      ],
      "text/plain": [
       "                          combined_text                    drug_names  \\\n",
       "0   Some discussion about medication A.                [medication_A]   \n",
       "2  Discussion about medication A and B.  [medication_A, medication_B]   \n",
       "\n",
       "  sentiment_medication_A                                reason_medication_A  \n",
       "0                      1  The medication helped to treat the poster with...  \n",
       "2                      1  The medication helped to treat the poster with...  "
      ]
     },
     "execution_count": 10,
     "metadata": {},
     "output_type": "execute_result"
    }
   ],
   "source": [
    "results_df_medication_A.head()"
   ]
  }
 ],
 "metadata": {
  "kernelspec": {
   "display_name": "Python 3",
   "language": "python",
   "name": "python3"
  },
  "language_info": {
   "codemirror_mode": {
    "name": "ipython",
    "version": 3
   },
   "file_extension": ".py",
   "mimetype": "text/x-python",
   "name": "python",
   "nbconvert_exporter": "python",
   "pygments_lexer": "ipython3",
   "version": "3.12.0"
  }
 },
 "nbformat": 4,
 "nbformat_minor": 2
}
