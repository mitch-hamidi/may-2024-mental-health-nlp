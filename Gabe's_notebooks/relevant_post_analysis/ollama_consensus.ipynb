{
 "cells": [
  {
   "cell_type": "markdown",
   "metadata": {},
   "source": [
    "#### ollama Consensus Model\n",
    "\n",
    "We start with a black-box approach to consensus generation. This has the downside that it works via a black-box so we have no way to understand how it is constructing a consensus. We also are not able to directly assess its performance. This idea is based off what was used in the Aware NLP model last semester."
   ]
  },
  {
   "cell_type": "code",
   "execution_count": 1,
   "metadata": {},
   "outputs": [],
   "source": [
    "import ollama\n",
    "from ollama import pull, chat, generate\n",
    "import numpy as np\n",
    "import pandas as pd\n",
    "from sklearn.model_selection import train_test_split, cross_val_score, StratifiedKFold\n",
    "from sklearn.pipeline import Pipeline\n",
    "from sklearn.metrics import classification_report, make_scorer, accuracy_score\n",
    "from sklearn.metrics import recall_score, precision_score"
   ]
  },
  {
   "cell_type": "code",
   "execution_count": 8,
   "metadata": {},
   "outputs": [
    {
     "data": {
      "text/plain": [
       "{'status': 'success'}"
      ]
     },
     "execution_count": 8,
     "metadata": {},
     "output_type": "execute_result"
    }
   ],
   "source": [
    "ollama.pull('dolphin-mistral')\n",
    "ollama.pull('mistral')"
   ]
  },
  {
   "cell_type": "code",
   "execution_count": 9,
   "metadata": {},
   "outputs": [],
   "source": [
    "df= pd.read_csv('../data/highly_relevant_posts_descending_threshold_50.csv')"
   ]
  },
  {
   "cell_type": "markdown",
   "metadata": {},
   "source": [
    "For sentiment analysis using this approach. I don't want to remove stopwords or punctuation, because that can drastically change the meaning of text (especially since 'not' is a stopword in the nltk corpus)."
   ]
  },
  {
   "cell_type": "code",
   "execution_count": 17,
   "metadata": {},
   "outputs": [],
   "source": [
    "df['combined_text'] = df['combined_text'].str.replace('\\n', ' ')"
   ]
  },
  {
   "cell_type": "code",
   "execution_count": 18,
   "metadata": {},
   "outputs": [
    {
     "data": {
      "text/plain": [
       "'What combination of meds finally worked for you? What hasn’t worked? right now i’m on: prozac 40mg wellbutrin xl 300mg adderall 15mg 2x a day xanax 0.5mg 1x day as needed  **meds not related to mental health** lyrica 75mg 2x per day vitamin d3 5000 omeprazole 20mg  i started seeing a psychiatrist and therapist in november. at that time i was put on prozac 20mg, topamax, and propranolol. i had a bad reaction to the topamax and switched to abilify which i had taken in the past. at some point in those few months we stopped the abilify, but i can’t remember why. we then increased the prozac to 40mg.   i had a hospitalization at the end of february where we did quite a few switches with my meds. the prozac stayed the same dose. they added wellbutrin xl 150mg, vistiril, and a low dose of seroquel (50mg i believe). during my week there we increased the dose of seroquel to 150mg and then by the end of the week i was at 300mg. i was then diagnosed with schizoaffective disorder. when i was discharged i continued the seroquel but decided to have my psych doctor take me off it due to nodding out during conversations etc.   since then we have not done much change in the way of antidepressants or antipsychotics. we did however switch from vyvanse 40mg to adderall that i listed above, and then was prescribed clonzepam for a short period then moved to xanax, where i’m currently at now.   i think overall the medications are working. the adderall helps me function significantly better than the vyvanse and the xanax is easier on me then the clonzepam. i think wellbutrin xl is what stabilized me by adding it to the prozac. now i am starting to feel that familiar dread coming in. i work from home and have begun clocking in and not doing anything, can’t clean, not taking care of myself, you know the drill. i thought it was mostly anxiety, but that’s actually pretty stable.   i’m sorry for the long post and with it being my first post here. i was just diagnosed in november after being diagnosed with bipolar 1 with no relief.   tl;dr been on a bunch of different meds. prozac, wellbutrin, seroquel, abilify, xanax, clonzepam. they were working but recently i have started to feel extremely depressed and ideations are creeping back.  what medication has worked for you?'"
      ]
     },
     "execution_count": 18,
     "metadata": {},
     "output_type": "execute_result"
    }
   ],
   "source": [
    "df.combined_text[1]"
   ]
  },
  {
   "cell_type": "code",
   "execution_count": 20,
   "metadata": {},
   "outputs": [
    {
     "name": "stdout",
     "output_type": "stream",
     "text": [
      "| treatment | sentiment | current | dose |\n",
      "|---|---|---|---|\n",
      "| Lithium | positive | | 600mg (current) |\n",
      "| DBT | neutral | | |\n",
      "| TMS | negative | | |\n",
      "| Lexapro | positive | | 10mg (former), 20mg |\n",
      "| Zoloft | unspecified | | |\n",
      "| SSRIs | negative | | |\n",
      "| SNRIs | neutral | | |\n",
      "| Wellbutrin | neutral | | |\n"
     ]
    }
   ],
   "source": [
    "ollama_response = ollama.chat(model='dolphin-mistral', messages=[\n",
    "  {\n",
    "    'role': 'user',\n",
    "    'content':  \"\"\" The following statement (delimited by ```) provided below is a post from the subreddit r/bpd. \n",
    "            The statement should be taken as is. It cannot be used to further a dialogue with the poster. \n",
    "            \n",
    "            Please format the output as a dataframe with the columns \"treatment\", \"sentiment\", \"current\" and \"dose\". \n",
    "            The treatment column should give the names of the treatments and medications that the poster has used to treat borderline personality disorder.\n",
    "            \"sentiment\" should give a list of the poster's experience with each of the treatments they discussed. For this, use the keys 'positive', 'negative', 'neutral' and 'unspecified'.\n",
    "            \"current\" should either be blank or return a boolean value for whether the poster is currently recieving the treatment or not. If this cannot be determined, leave this field blank.\n",
    "            Finally, if the post discusses a dosage associated to a medication, please list that in the \"dose\" column. Otherwise leave this blank.\n",
    "            If the post discusses multiple doses, put all the doses separated by commas. Former doses should followed by '(former)'.\n",
    "            <</SYS>>\n",
    "            ```\n",
    "            {df.combined_text[1]}\n",
    "            ```,\"\"\"\n",
    "  },\n",
    "],\n",
    "options = {\n",
    "  #'temperature': 1.5, # very creative\n",
    "  #'temperature': 0.1 # very conservative (good for coding and correct syntax)\n",
    "})\n",
    "\n",
    "# Printing the response from ollama.\n",
    "print(ollama_response['message']['content'])"
   ]
  },
  {
   "cell_type": "markdown",
   "metadata": {},
   "source": [
    "Refining this will require some prompt engineering. Also, this runs very slowly, so we probably want to minimize the amount of times we call this approach"
   ]
  }
 ],
 "metadata": {
  "kernelspec": {
   "display_name": "Python 3",
   "language": "python",
   "name": "python3"
  },
  "language_info": {
   "codemirror_mode": {
    "name": "ipython",
    "version": 3
   },
   "file_extension": ".py",
   "mimetype": "text/x-python",
   "name": "python",
   "nbconvert_exporter": "python",
   "pygments_lexer": "ipython3",
   "version": "3.12.0"
  }
 },
 "nbformat": 4,
 "nbformat_minor": 2
}
