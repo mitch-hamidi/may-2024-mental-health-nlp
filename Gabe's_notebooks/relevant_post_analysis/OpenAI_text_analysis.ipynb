{
 "cells": [
  {
   "cell_type": "code",
   "execution_count": 4,
   "metadata": {},
   "outputs": [],
   "source": [
    "import pandas as pd\n",
    "\n"
   ]
  },
  {
   "cell_type": "code",
   "execution_count": 5,
   "metadata": {},
   "outputs": [],
   "source": [
    "import numpy as np\n",
    "import matplotlib.pyplot  as plt"
   ]
  },
  {
   "cell_type": "code",
   "execution_count": 11,
   "metadata": {},
   "outputs": [],
   "source": [
    "df=pd.read_csv('../data/highly_relevant_posts_descending_threshold_50.csv')"
   ]
  },
  {
   "cell_type": "code",
   "execution_count": 7,
   "metadata": {},
   "outputs": [
    {
     "name": "stdout",
     "output_type": "stream",
     "text": [
      "[({'name': 'Acetaminophen', 'synonyms': {'Panadol', 'Acamol', 'Hydroxyacetanilide', 'Acephen', 'Datril', 'Ofirmev', 'Tylenol', 'Acetaco', 'Actamin', 'Algotropyl', 'Paracetamol', 'Acetominophen', 'Paracetamolum', 'Acetaminophen', 'Acetamidophenol', 'Acenol'}, 'medline_plus_id': 'a621016', 'generic_names': ['Acetaminophen'], 'mesh_id': 'D058633', 'drugbank_id': 'DB00316', 'wikipedia_url': 'https://en.wikipedia.org/wiki/Paracetamol'}, 2, 2)]\n"
     ]
    }
   ],
   "source": [
    "from drug_named_entity_recognition import find_drugs"
   ]
  },
  {
   "cell_type": "code",
   "execution_count": 8,
   "metadata": {},
   "outputs": [],
   "source": [
    "def get_drug_list(text):\n",
    "    drug_tuples = find_drugs(text.split(\" \"), is_ignore_case=True)\n",
    "    drug_names = [drug[0] for drug in drug_tuples]\n",
    "    drug_list= [drug.get('name') for drug in drug_names]\n",
    "    unique_drug_list = sorted(set(drug_list))\n",
    "    return unique_drug_list"
   ]
  },
  {
   "cell_type": "code",
   "execution_count": 12,
   "metadata": {},
   "outputs": [],
   "source": [
    "df['drug_list'] =df['processed_text'].apply(get_drug_list)"
   ]
  },
  {
   "cell_type": "code",
   "execution_count": 13,
   "metadata": {},
   "outputs": [
    {
     "name": "stdout",
     "output_type": "stream",
     "text": [
      "                                                  title  \\\n",
      "0     Informal survey: What (legal) drugs, if any, '...   \n",
      "3               My experience with lamictal/lamotrigine   \n",
      "8     What medication(s) work best for when you have...   \n",
      "12    My first time Inpatient: how I learned to advo...   \n",
      "14    Tomorrow I am seeing my doctor pertaining to m...   \n",
      "...                                                 ...   \n",
      "2494                 Lamictal experiences/side effects?   \n",
      "2495                                    Lamictal Online   \n",
      "2544                          Paranoia is getting worse   \n",
      "2545           TW - have i took enough to cause damage?   \n",
      "2552  Do you ever feel like your medication is actua...   \n",
      "\n",
      "                                               selftext  created_utc  over_18  \\\n",
      "0     hi! so i'm officially diagnosed, tried dbt but...   1602953594    False   \n",
      "3     this is going to be a very long post because i...   1628777635    False   \n",
      "8     i am formally diagnosed with severe general an...   1618869415    False   \n",
      "12    hi everyone, i just got released from the hosp...   1594470067    False   \n",
      "14    okay, i just need to get this out. \\n\\nso afte...   1451986895    False   \n",
      "...                                                 ...          ...      ...   \n",
      "2494  i've been on lamictal for a little bit now, an...   1590294261    False   \n",
      "2495  tya to anyone that has advice with this. i am ...   1570323109    False   \n",
      "2544  hi guys,\\n\\ni've recently upped my lamotrigine...   1521733190    False   \n",
      "2545  today ive had 150mg lamotrigine. 10mg buspiron...   1504112171    False   \n",
      "2552  i've been on lamotrigine for 7 months now. i w...   1588907467    False   \n",
      "\n",
      "     subreddit         date_created  \\\n",
      "0          BPD  2020-10-17 16:53:14   \n",
      "3          BPD  2021-08-12 14:13:55   \n",
      "8          BPD  2021-04-19 21:56:55   \n",
      "12         BPD  2020-07-11 12:21:07   \n",
      "14         BPD  2016-01-05 09:41:35   \n",
      "...        ...                  ...   \n",
      "2494       BPD  2020-05-24 04:24:21   \n",
      "2495       BPD  2019-10-06 00:51:49   \n",
      "2544       BPD  2018-03-22 15:39:50   \n",
      "2545       BPD  2017-08-30 16:56:11   \n",
      "2552       BPD  2020-05-08 03:11:07   \n",
      "\n",
      "                                          combined_text  \\\n",
      "0     Informal survey: What (legal) drugs, if any, '...   \n",
      "3     My experience with lamictal/lamotrigine this i...   \n",
      "8     What medication(s) work best for when you have...   \n",
      "12    My first time Inpatient: how I learned to advo...   \n",
      "14    Tomorrow I am seeing my doctor pertaining to m...   \n",
      "...                                                 ...   \n",
      "2494  Lamictal experiences/side effects? i've been o...   \n",
      "2495  Lamictal Online tya to anyone that has advice ...   \n",
      "2544  Paranoia is getting worse hi guys,\\n\\ni've rec...   \n",
      "2545  TW - have i took enough to cause damage? today...   \n",
      "2552  Do you ever feel like your medication is actua...   \n",
      "\n",
      "                                         processed_text  \\\n",
      "0     informal survey legal drug worked hi im offici...   \n",
      "3     experience lamictallamotrigine going long post...   \n",
      "8     medication work best several mental illness in...   \n",
      "12    first time inpatient learned advocate hi every...   \n",
      "14    tomorrow seeing doctor pertaining medication i...   \n",
      "...                                                 ...   \n",
      "2494  lamictal experiencesside effect ive lamictal l...   \n",
      "2495  lamictal online tya anyone advice looking way ...   \n",
      "2544  paranoia getting worse hi guy ive recently upp...   \n",
      "2545  tw took enough cause damage today ive 150mg la...   \n",
      "2552  ever feel like medication actually making feel...   \n",
      "\n",
      "      relevance_probability                                          drug_list  \n",
      "0                  1.000000  [Alprazolam, Amitriptyline, Aripiprazole, Cita...  \n",
      "3                  1.000000  [Alprazolam, Bupropion, Buspirone, Clonazepam,...  \n",
      "8                  0.999999  [Amphetamine, Aripiprazole, Bupropion, Citalop...  \n",
      "12                 0.999997                          [Fluoxetine, Lamotrigine]  \n",
      "14                 0.999996            [Aripiprazole, Lamotrigine, Topiramate]  \n",
      "...                     ...                                                ...  \n",
      "2494               0.505578                                      [Lamotrigine]  \n",
      "2495               0.505440                                      [Lamotrigine]  \n",
      "2544               0.501360                                      [Lamotrigine]  \n",
      "2545               0.501172              [Buspirone, Lamotrigine, Propranolol]  \n",
      "2552               0.500314                                      [Lamotrigine]  \n",
      "\n",
      "[552 rows x 10 columns]\n"
     ]
    }
   ],
   "source": [
    "from collections import defaultdict\n",
    "\n",
    "\n",
    "def build_medication_index(df, column_name):\n",
    "    med_index = defaultdict(list)\n",
    "    for idx, row in df.iterrows():\n",
    "        for med in row[column_name]:\n",
    "            med_index[med].append(idx)\n",
    "    return med_index\n",
    "\n",
    "def find_medication_with_index(med_index, df, medication_name):\n",
    "    if medication_name in med_index:\n",
    "        matching_indices = med_index[medication_name]\n",
    "        return df.loc[matching_indices]\n",
    "    else:\n",
    "        return pd.DataFrame()  # Return empty DataFrame if medication not found\n",
    "\n",
    "# Build the index\n",
    "med_index = build_medication_index(df, 'drug_list')\n",
    "\n",
    "# Call the function with a specific medication name\n",
    "medication_name = 'Lamotrigine'\n",
    "result = find_medication_with_index(med_index, df, medication_name)\n",
    "print(result)\n"
   ]
  },
  {
   "cell_type": "code",
   "execution_count": 14,
   "metadata": {},
   "outputs": [],
   "source": [
    "def get_synonyms(medication):\n",
    "    drug_tuples = find_drugs(medication.split(\" \"), is_ignore_case=True)\n",
    "    drug_names = [drug[0] for drug in drug_tuples]\n",
    "    drug_list= [drug.get('synonyms') for drug in drug_names]\n",
    "    return drug_list"
   ]
  },
  {
   "cell_type": "code",
   "execution_count": 15,
   "metadata": {},
   "outputs": [],
   "source": [
    "def synonym_list_string(medication):\n",
    "    return str(get_synonyms(medication_name)).strip('[,],{,}')"
   ]
  },
  {
   "cell_type": "code",
   "execution_count": 17,
   "metadata": {},
   "outputs": [],
   "source": [
    "import openai\n",
    "\n",
    "# Function to get sentiment and reason for a given medication from text\n",
    "def get_medication_sentiment(medication_name, text):\n",
    "    prompt = f\"This passage enclosed in `` `` contains some discussion about the medication {medication_name} (perhaps referring to them in terms of a synonym from the list \" + synonym_list_string(medication_name)  + \"). The response should only consider this medication and none others. Please format the output as a dictionary with the following keys, 'sentiment', 'reason'. For 'sentiment,' respond with '1' if the medication helped to treat the poster, even if there are minor side effects or the medication did not fully resolve the condition. Respond with '-1' if the medication did not help the poster. Respond with '0' if the discussion of the medication is neutral and respond with '-' if there is not enough information to determine this information. 'Reason' should be a short sentence about the experience the poster had with the medication, including effectiveness, side effects, interactions with other medications, or addictions:``{text}``\"\n",
    "    response = openai.Completion.create(\n",
    "        engine=\"gpt-3.5-turbo-0125\",\n",
    "        prompt=prompt,\n",
    "        max_tokens=150,\n",
    "        temperature=0.5,\n",
    "        stop=None\n",
    "    )\n",
    "    output = response.choices[0].text.strip()\n",
    "    sentiment, reason = output.split('\\n')\n",
    "    return {'sentiment': sentiment, 'reason': reason}\n",
    "\n",
    "\n",
    "# Function to process DataFrame\n",
    "def process_dataframe(df, medication_name):\n",
    "    rows_with_medication = df[df['drug_names'].apply(lambda x: medication_name in x)]\n",
    "    sentiments = []\n",
    "    reasons = []\n",
    "    for index, row in rows_with_medication.iterrows():\n",
    "        text = row['combined_text']\n",
    "        sentiment_reason = get_medication_sentiment(medication_name, text)\n",
    "        sentiments.append(sentiment_reason['sentiment'])\n",
    "        reasons.append(sentiment_reason['reason'])\n",
    "    rows_with_medication['sentiment'] = sentiments\n",
    "    rows_with_medication['reason'] = reasons\n",
    "    return rows_with_medication\n"
   ]
  }
 ],
 "metadata": {
  "kernelspec": {
   "display_name": "Python 3",
   "language": "python",
   "name": "python3"
  },
  "language_info": {
   "codemirror_mode": {
    "name": "ipython",
    "version": 3
   },
   "file_extension": ".py",
   "mimetype": "text/x-python",
   "name": "python",
   "nbconvert_exporter": "python",
   "pygments_lexer": "ipython3",
   "version": "3.12.0"
  }
 },
 "nbformat": 4,
 "nbformat_minor": 2
}
