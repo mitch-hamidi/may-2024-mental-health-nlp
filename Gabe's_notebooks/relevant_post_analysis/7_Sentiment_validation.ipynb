{
 "cells": [
  {
   "cell_type": "code",
   "execution_count": 2,
   "metadata": {},
   "outputs": [],
   "source": [
    "import numpy as np\n",
    "import pandas as pd\n",
    "import matplotlib.pyplot  as plt\n",
    "\n",
    "#Loading the sentiments and the manually corrected sentiments\n",
    "df_coded = pd.read_csv('../data/Lamotrigine_sentiments_4o_cleaned_and_coded.csv')\n",
    "df = pd.read_csv('../data/Lamotrigine_sentiments_4o_cleaned.csv')"
   ]
  },
  {
   "cell_type": "code",
   "execution_count": 3,
   "metadata": {},
   "outputs": [],
   "source": [
    "def count_differences(df1, df2, column_name):\n",
    "    # Ensure both DataFrames have the same length\n",
    "    if len(df1) != len(df2):\n",
    "        raise ValueError(\"DataFrames must have the same length\")\n",
    "    \n",
    "    # Element-wise comparison\n",
    "    differences = df1[column_name] != df2[column_name]\n",
    "    \n",
    "    # Count the number of differences\n",
    "    num_differences = differences.sum()\n",
    "    \n",
    "    return num_differences"
   ]
  },
  {
   "cell_type": "code",
   "execution_count": 4,
   "metadata": {},
   "outputs": [],
   "source": [
    "differences_sentiment = count_differences(df, df_coded, 'sentiment')"
   ]
  },
  {
   "cell_type": "code",
   "execution_count": 5,
   "metadata": {},
   "outputs": [
    {
     "name": "stdout",
     "output_type": "stream",
     "text": [
      "Number of differences in 'sentiment': 101\n"
     ]
    }
   ],
   "source": [
    "print(f\"Number of differences in 'sentiment': {differences_sentiment}\")"
   ]
  },
  {
   "cell_type": "markdown",
   "metadata": {},
   "source": [
    "This corresponds to an accuracy of about 82%. However, most of the errors are mixing up '0' and '-' (which were somewhat ambiguous), so we can look at those as well."
   ]
  },
  {
   "cell_type": "code",
   "execution_count": 9,
   "metadata": {},
   "outputs": [
    {
     "name": "stderr",
     "output_type": "stream",
     "text": [
      "/var/folders/9j/j4gyltgs6txd83bg66_mv4fn664jzt/T/ipykernel_48639/2378500026.py:2: FutureWarning: A value is trying to be set on a copy of a DataFrame or Series through chained assignment using an inplace method.\n",
      "The behavior will change in pandas 3.0. This inplace method will never work because the intermediate object on which we are setting values always behaves as a copy.\n",
      "\n",
      "For example, when doing 'df[col].method(value, inplace=True)', try using 'df.method({col: value}, inplace=True)' or df[col] = df[col].method(value) instead, to perform the operation inplace on the original object.\n",
      "\n",
      "\n",
      "  df_coded.sentiment.replace('-', '0', inplace=True)\n"
     ]
    }
   ],
   "source": [
    "df.sentiment.replace('-', '0', inplace=True)\n",
    "df_coded.sentiment.replace('-', '0', inplace=True)"
   ]
  },
  {
   "cell_type": "code",
   "execution_count": 10,
   "metadata": {},
   "outputs": [],
   "source": [
    "differences_sentiment_merged = count_differences(df, df_coded, 'sentiment')"
   ]
  },
  {
   "cell_type": "code",
   "execution_count": 12,
   "metadata": {},
   "outputs": [
    {
     "name": "stdout",
     "output_type": "stream",
     "text": [
      "Number of differences in 'sentiment' ignoring '0' and '-': 20\n"
     ]
    }
   ],
   "source": [
    "print(f\"Number of differences in 'sentiment' merging '0' and '-': {differences_sentiment_merged}\")"
   ]
  },
  {
   "cell_type": "markdown",
   "metadata": {},
   "source": [
    "This is a rather crude estimate of the accuracy. I think the prompt was not well written to distinguish between '0' and '-' and that's something that I would want to improve for future analysis."
   ]
  }
 ],
 "metadata": {
  "kernelspec": {
   "display_name": "Python 3",
   "language": "python",
   "name": "python3"
  },
  "language_info": {
   "codemirror_mode": {
    "name": "ipython",
    "version": 3
   },
   "file_extension": ".py",
   "mimetype": "text/x-python",
   "name": "python",
   "nbconvert_exporter": "python",
   "pygments_lexer": "ipython3",
   "version": "3.12.0"
  }
 },
 "nbformat": 4,
 "nbformat_minor": 2
}
