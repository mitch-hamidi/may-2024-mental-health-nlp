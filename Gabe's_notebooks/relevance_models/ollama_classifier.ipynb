{
 "cells": [
  {
   "cell_type": "markdown",
   "metadata": {},
   "source": [
    "One natural thing to try is to use a large language model to determine whether posts are relevant or not. This is what the Aware-NLP project last semester did, and it seems to work well with our data as well. Unfortunately, it runs very slowly, so probably won't be practical at this step."
   ]
  },
  {
   "cell_type": "code",
   "execution_count": 4,
   "metadata": {},
   "outputs": [],
   "source": [
    "from ollama import pull, chat, generate"
   ]
  },
  {
   "cell_type": "code",
   "execution_count": 6,
   "metadata": {},
   "outputs": [
    {
     "data": {
      "text/plain": [
       "{'status': 'success'}"
      ]
     },
     "execution_count": 6,
     "metadata": {},
     "output_type": "execute_result"
    }
   ],
   "source": [
    "ollama.pull('dolphin-mistral')\n",
    "ollama.pull('mistral')"
   ]
  },
  {
   "cell_type": "code",
   "execution_count": 7,
   "metadata": {},
   "outputs": [
    {
     "name": "stdout",
     "output_type": "stream",
     "text": [
      " Sure, here's a classic math joke for you:\n",
      "\n",
      "Why was the math book sad?\n",
      "\n",
      "Because it had too many problems!\n"
     ]
    }
   ],
   "source": [
    "## Testing the model to make sure it is working.\n",
    "\n",
    "messages = [\n",
    "  {\n",
    "    'role': 'user',\n",
    "    'content': 'Tell me a joke.',\n",
    "  },\n",
    "]\n",
    "\n",
    "response = chat('mistral', messages=messages)\n",
    "print(response['message']['content'])"
   ]
  },
  {
   "cell_type": "code",
   "execution_count": 9,
   "metadata": {},
   "outputs": [
    {
     "name": "stdout",
     "output_type": "stream",
     "text": [
      " Of course! Here's a classic one:\n",
      "\n",
      "Why don't scientists trust atoms?\n",
      "\n",
      "Because they make up everything!\n",
      "\n",
      "Hope that brought a smile to your face. If you need more, just ask!\n"
     ]
    }
   ],
   "source": [
    "response = generate('mistral', 'Tell me a joke.')\n",
    "print(response['response'])"
   ]
  },
  {
   "cell_type": "markdown",
   "metadata": {},
   "source": [
    "Note that generate takes a lot more time to respond than chat. I've found that 'dolphin-mistral' tends to be a bit faster than 'mistral', so I'm going to use that from here."
   ]
  },
  {
   "cell_type": "code",
   "execution_count": 10,
   "metadata": {},
   "outputs": [
    {
     "name": "stdout",
     "output_type": "stream",
     "text": [
      "A Riemannian manifold is a generalization of the concept of Euclidean space to higher dimensions and more complex geometries. It is a mathematical object that can be thought of as a smooth, curved surface embedded in a higher-dimensional Euclidean space. In other words, it is a differentiable manifold equipped with a Riemannian metric, which assigns a positive definite inner product to each pair of tangent vectors at each point on the manifold.\n",
      "\n",
      "The Riemannian metric allows us to measure distances and angles between curves on the manifold, and it also determines the curvature of the manifold. This curvature can be either constant (as in Euclidean space) or variable, depending on the specific properties of the manifold.\n",
      "\n",
      "Riemannian manifolds are important in various fields of mathematics and physics, such as differential geometry, general relativity, and statistical mechanics. They provide a framework for studying geometric structures and their associated properties, such as curvature, volume, and distance.\n"
     ]
    }
   ],
   "source": [
    "ollama_response = ollama.chat(model='dolphin-mistral', messages=[\n",
    "  {\n",
    "    'role': 'user',\n",
    "    'content': 'What is a Riemannian manifold?',\n",
    "  },\n",
    "],\n",
    "options = {\n",
    "  #'temperature': 1.5, # very creative\n",
    "  'temperature': 0.1 # very conservative (good for coding and correct syntax)\n",
    "})\n",
    "\n",
    "# Printing the response from ollama.\n",
    "print(ollama_response['message']['content'])"
   ]
  },
  {
   "cell_type": "markdown",
   "metadata": {},
   "source": [
    "The answer is correct, but required 3.5 minutes to generate."
   ]
  },
  {
   "cell_type": "markdown",
   "metadata": {},
   "source": [
    "#### Running the model on data from r/bpd\n",
    "\n",
    "Last semester, the Aware NLP project used ollama to determine whether posts on reddit were relevant. We can try their method to see if it works."
   ]
  },
  {
   "cell_type": "code",
   "execution_count": 11,
   "metadata": {},
   "outputs": [],
   "source": [
    "prompt_dict = {\n",
    "    0: \"\"\"<s>[INST] <<SYS>>\n",
    "            The following statement (delimited by ```) provided below is a post from the subreddit r/bpd. \n",
    "            The statement should be taken as is. It cannot be used to further a dialogue with the poster. \n",
    "            \n",
    "            Please format the output as a dictionary with the following keys: \"relevant\", \"reason\". \n",
    "            Relevant should be a boolean value indicating whether the post discusses the medical management of borderline personality disorder.\n",
    "            Reason should be a string explaining why and how the statement is or is not relevant.\n",
    "            <</SYS>>\n",
    "            ```\n",
    "            Statement: {statement}\n",
    "            ```\n",
    "            [/INST]\"\"\",\n",
    "    1: \"\"\"<s>[INST] <<SYS>>\n",
    "            The following statement (delimited by ```) provided below is a post from the subreddit r/bpd. \n",
    "            The statement should be taken as is. It cannot be used to further a dialogue with the poster.\n",
    "            The statement should be labeled as relevant (true) if it provides an account (positive, negative, or neutral) \n",
    "            of their experience using a certain medication or therapy in order to tream borderline personality disorder. \n",
    "\n",
    "            Please format the output as a dictionary with the following keys: \"relevant\", \"reason\". \n",
    "            Relevant should be a boolean value indicating whether the statement is relevant to the question.\n",
    "            Reason should be a string explaining why and how the statement is or is not relevant.\n",
    "            <</SYS>>\n",
    "            ```\n",
    "            Statement: {statement}\n",
    "            ```\n",
    "            [/INST]\"\"\"\n",
    "\n",
    "}"
   ]
  },
  {
   "cell_type": "code",
   "execution_count": 12,
   "metadata": {},
   "outputs": [],
   "source": [
    "statement = '\"i’ve been in and out of therapy since i was ten or eleven. i have a therapist now who i’ve known for almost 12 years and i like him a lot. but cbt does not work for me and never has. i don’t want to stop seeing him, though. i did look into dbt therapists in my county and none of them so far take my insurance. i don’t even know if my insurance would pay for the sessions because many don’t when you have a personality disorder. i also have a psychiatrist (i’ve had quite a few). i’ve lost count of how many medications i’ve been on. i had my monthly session with him yesterday and he was visibly frustrated. not at me, but because no medication i’ve tried or am currently on is working like it should. he really wants me to continue therapy because he told me, “i don’t know how else to help you”. i know that he means medication can only do so much and therapy is what will help the best. but it still hurt. he also told me that bpd is extremely hard to treat (which i already know). it really me a lot and now i feel more hopeless and helpless than i ever have, i think. i don’t even want to make another appointment with therapist. if my current one can’t adjust his techniques, or i can’t find a dbt therapist, what am i supposed to do? what if i *do* find a dbt therapist and don’t get anything out of that either? why won’t my medications just work?? i have so many unanswered questions and i’m so angry i just want to give up on treatment altogether.\"'"
   ]
  },
  {
   "cell_type": "code",
   "execution_count": 14,
   "metadata": {},
   "outputs": [
    {
     "name": "stdout",
     "output_type": "stream",
     "text": [
      "{\n",
      "    \"relevant\": true,\n",
      "    \"reason\": \"The statement discusses the poster's experience with therapy and medications for the treatment of borderline personality disorder. The poster mentions trying various therapies (CBT and Dialectical Behavior Therapy), not finding a suitable therapist, frustration over unsuccessful medications, and feeling hopeless.\"\n",
      "}\n"
     ]
    }
   ],
   "source": [
    "ollama_response = ollama.chat(model='dolphin-mistral', messages=[\n",
    "  {\n",
    "    'role': 'user',\n",
    "    'content':  \"\"\" The following statement (delimited by ```) provided below is a post from the subreddit r/bpd. \n",
    "            The statement should be taken as is. It cannot be used to further a dialogue with the poster. \n",
    "            \n",
    "            Please format the output as a dictionary with the following keys: \"relevant\", \"reason\". \n",
    "            Relevant should be a boolean value indicating whether the post discusses the poster's experience with therapy and medications for the treatment of borderline personality disorder.\n",
    "            Reason should be a string explaining why and how the statement is or is not relevant.\n",
    "            <</SYS>>\n",
    "            ```\n",
    "            Statement: statement = '\"i’ve been in and out of therapy since i was ten or eleven. i have a therapist now who i’ve known for almost 12 years and i like him a lot. but cbt does not work for me and never has. i don’t want to stop seeing him, though. i did look into dbt therapists in my county and none of them so far take my insurance. i don’t even know if my insurance would pay for the sessions because many don’t when you have a personality disorder. i also have a psychiatrist (i’ve had quite a few). i’ve lost count of how many medications i’ve been on. i had my monthly session with him yesterday and he was visibly frustrated. not at me, but because no medication i’ve tried or am currently on is working like it should. he really wants me to continue therapy because he told me, “i don’t know how else to help you”. i know that he means medication can only do so much and therapy is what will help the best. but it still hurt. he also told me that bpd is extremely hard to treat (which i already know). it really me a lot and now i feel more hopeless and helpless than i ever have, i think. i don’t even want to make another appointment with therapist. if my current one can’t adjust his techniques, or i can’t find a dbt therapist, what am i supposed to do? what if i *do* find a dbt therapist and don’t get anything out of that either? why won’t my medications just work?? i have so many unanswered questions and i’m so angry i just want to give up on treatment altogether.\"'\n",
    "            ```, \"\"\"\n",
    "  },\n",
    "],\n",
    "options = {\n",
    "  #'temperature': 1.5, # very creative\n",
    "  #'temperature': 0.1 # very conservative (good for coding and correct syntax)\n",
    "})\n",
    "\n",
    "# Printing the response from ollama.\n",
    "print(ollama_response['message']['content'])"
   ]
  },
  {
   "cell_type": "markdown",
   "metadata": {},
   "source": [
    "This worked incredibly well, but took 2 minutes to analyze a single post. Therefore, unless we have access to something to do this rapidly, this won't be practical for analyzing the full dataset. However, this tool might be really useful for generating the consensus of a large number of posts."
   ]
  }
 ],
 "metadata": {
  "kernelspec": {
   "display_name": "Python 3",
   "language": "python",
   "name": "python3"
  },
  "language_info": {
   "codemirror_mode": {
    "name": "ipython",
    "version": 3
   },
   "file_extension": ".py",
   "mimetype": "text/x-python",
   "name": "python",
   "nbconvert_exporter": "python",
   "pygments_lexer": "ipython3",
   "version": "3.12.0"
  }
 },
 "nbformat": 4,
 "nbformat_minor": 2
}
