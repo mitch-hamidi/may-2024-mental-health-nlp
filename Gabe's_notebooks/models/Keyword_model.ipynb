{
 "cells": [
  {
   "cell_type": "markdown",
   "metadata": {},
   "source": [
    "##### A Model Which Incorporates Keywords"
   ]
  },
  {
   "cell_type": "code",
   "execution_count": 33,
   "metadata": {},
   "outputs": [],
   "source": [
    "import numpy as np\n",
    "import pandas as pd\n",
    "from datetime import datetime\n",
    "import matplotlib.pyplot  as plt\n",
    "import os "
   ]
  },
  {
   "cell_type": "code",
   "execution_count": 19,
   "metadata": {},
   "outputs": [
    {
     "name": "stdout",
     "output_type": "stream",
     "text": [
      "/Users/gkhan/Documents/GitHub/may-2024-mental-health-nlp/Gabe's_notebooks/models\n"
     ]
    }
   ],
   "source": [
    "cwd = os.getcwd()\n",
    "print(cwd)"
   ]
  },
  {
   "cell_type": "markdown",
   "metadata": {},
   "source": [
    "### Importing the data"
   ]
  },
  {
   "cell_type": "code",
   "execution_count": 65,
   "metadata": {},
   "outputs": [],
   "source": [
    "df_coded = pd.read_csv('../data/processed_and_coded_posts.csv')"
   ]
  },
  {
   "cell_type": "markdown",
   "metadata": {},
   "source": [
    "Now we will import the keywords"
   ]
  },
  {
   "cell_type": "code",
   "execution_count": 66,
   "metadata": {},
   "outputs": [],
   "source": [
    "csv_file_path = '../keywords/medications.csv'\n",
    "\n",
    "# Read the CSV file\n",
    "df = pd.read_csv(csv_file_path)\n",
    "\n",
    "# Extract the first column as a list of keywords\n",
    "medications = df.iloc[:, 0].tolist()"
   ]
  },
  {
   "cell_type": "code",
   "execution_count": 75,
   "metadata": {},
   "outputs": [],
   "source": [
    "csv_file_path_2 = '../keywords/Treatment.csv'\n",
    "\n",
    "# Read the CSV file\n",
    "df_2 = pd.read_csv(csv_file_path_2)\n",
    "\n",
    "# Extract the first column as a list of keywords\n",
    "therapy = df_2.iloc[:, 0].tolist()"
   ]
  },
  {
   "cell_type": "code",
   "execution_count": 98,
   "metadata": {},
   "outputs": [],
   "source": [
    "general_keywords = ['medicine','therapy','treatment','recovery','prescribed','diagnosed','med','meds','prescribe','therapist','session','psychiatrist','psychiatrists','dosage','medication', 'dbt', 'abilify', 'outpatient', 'therapist', 'harming','medicine','therapy','treatment','recovery','prescribed','diagnosed','therapists','prescribe','diagnose','medicines','drugs','drug','therapist','session']"
   ]
  },
  {
   "cell_type": "code",
   "execution_count": 99,
   "metadata": {},
   "outputs": [
    {
     "data": {
      "text/plain": [
       "34"
      ]
     },
     "execution_count": 99,
     "metadata": {},
     "output_type": "execute_result"
    }
   ],
   "source": [
    "len(general_keywords)"
   ]
  },
  {
   "cell_type": "markdown",
   "metadata": {},
   "source": [
    "### Code to count keywords"
   ]
  },
  {
   "cell_type": "code",
   "execution_count": 48,
   "metadata": {},
   "outputs": [],
   "source": [
    "def count_keywords(text, keywords):\n",
    "    return sum(text.lower().split().count(keyword) for keyword in keywords)\n"
   ]
  },
  {
   "cell_type": "code",
   "execution_count": 67,
   "metadata": {},
   "outputs": [
    {
     "data": {
      "text/plain": [
       "600"
      ]
     },
     "execution_count": 67,
     "metadata": {},
     "output_type": "execute_result"
    }
   ],
   "source": [
    "df_coded.processed_text.count()"
   ]
  },
  {
   "cell_type": "code",
   "execution_count": 8,
   "metadata": {},
   "outputs": [
    {
     "data": {
      "text/html": [
       "<div>\n",
       "<style scoped>\n",
       "    .dataframe tbody tr th:only-of-type {\n",
       "        vertical-align: middle;\n",
       "    }\n",
       "\n",
       "    .dataframe tbody tr th {\n",
       "        vertical-align: top;\n",
       "    }\n",
       "\n",
       "    .dataframe thead th {\n",
       "        text-align: right;\n",
       "    }\n",
       "</style>\n",
       "<table border=\"1\" class=\"dataframe\">\n",
       "  <thead>\n",
       "    <tr style=\"text-align: right;\">\n",
       "      <th></th>\n",
       "      <th>title</th>\n",
       "      <th>selftext</th>\n",
       "      <th>created_utc</th>\n",
       "      <th>over_18</th>\n",
       "      <th>subreddit</th>\n",
       "      <th>date_created</th>\n",
       "      <th>self</th>\n",
       "      <th>is_relevant</th>\n",
       "      <th>highly_relevant</th>\n",
       "      <th>combined_text</th>\n",
       "      <th>processed_text</th>\n",
       "    </tr>\n",
       "  </thead>\n",
       "  <tbody>\n",
       "    <tr>\n",
       "      <th>0</th>\n",
       "      <td>Living with BPD</td>\n",
       "      <td>hi all, not sure if this is ok to post so plea...</td>\n",
       "      <td>1643066256</td>\n",
       "      <td>False</td>\n",
       "      <td>BPD</td>\n",
       "      <td>2022-01-24 23:17:36</td>\n",
       "      <td>0</td>\n",
       "      <td>0</td>\n",
       "      <td>0</td>\n",
       "      <td>Living with BPD hi all, not sure if this is ok...</td>\n",
       "      <td>living bpd hi all, sure ok post please remove ...</td>\n",
       "    </tr>\n",
       "    <tr>\n",
       "      <th>1</th>\n",
       "      <td>i feel like i’m losing my battle and nothings ...</td>\n",
       "      <td>i’ve struggled with depression since i was abo...</td>\n",
       "      <td>1643064417</td>\n",
       "      <td>False</td>\n",
       "      <td>BPD</td>\n",
       "      <td>2022-01-24 22:46:57</td>\n",
       "      <td>1</td>\n",
       "      <td>0</td>\n",
       "      <td>0</td>\n",
       "      <td>i feel like i’m losing my battle and nothings ...</td>\n",
       "      <td>feel like i’m losing battle nothing helping i’...</td>\n",
       "    </tr>\n",
       "    <tr>\n",
       "      <th>2</th>\n",
       "      <td>The Way Social Media Assumes Things About and ...</td>\n",
       "      <td>like i’m a rare case of bpd developing at a ve...</td>\n",
       "      <td>1643064326</td>\n",
       "      <td>False</td>\n",
       "      <td>BPD</td>\n",
       "      <td>2022-01-24 22:45:26</td>\n",
       "      <td>1</td>\n",
       "      <td>0</td>\n",
       "      <td>0</td>\n",
       "      <td>The Way Social Media Assumes Things About and ...</td>\n",
       "      <td>way social medium assumes thing portraying bpd...</td>\n",
       "    </tr>\n",
       "    <tr>\n",
       "      <th>3</th>\n",
       "      <td>How to cope with family who doesn’t believe in...</td>\n",
       "      <td>i have been diagnosed with bpd late 2020s and ...</td>\n",
       "      <td>1643062602</td>\n",
       "      <td>False</td>\n",
       "      <td>BPD</td>\n",
       "      <td>2022-01-24 22:16:42</td>\n",
       "      <td>1</td>\n",
       "      <td>0</td>\n",
       "      <td>0</td>\n",
       "      <td>How to cope with family who doesn’t believe in...</td>\n",
       "      <td>cope family doesn’t believe mental illness dia...</td>\n",
       "    </tr>\n",
       "    <tr>\n",
       "      <th>4</th>\n",
       "      <td>Lost my FP/partner and now I’m addicted to dat...</td>\n",
       "      <td>my partner and fp broke up with me about 2 wee...</td>\n",
       "      <td>1643061431</td>\n",
       "      <td>False</td>\n",
       "      <td>BPD</td>\n",
       "      <td>2022-01-24 21:57:11</td>\n",
       "      <td>1</td>\n",
       "      <td>0</td>\n",
       "      <td>0</td>\n",
       "      <td>Lost my FP/partner and now I’m addicted to dat...</td>\n",
       "      <td>lost fp/partner i’m addicted dating apps hopin...</td>\n",
       "    </tr>\n",
       "  </tbody>\n",
       "</table>\n",
       "</div>"
      ],
      "text/plain": [
       "                                               title  \\\n",
       "0                                    Living with BPD   \n",
       "1  i feel like i’m losing my battle and nothings ...   \n",
       "2  The Way Social Media Assumes Things About and ...   \n",
       "3  How to cope with family who doesn’t believe in...   \n",
       "4  Lost my FP/partner and now I’m addicted to dat...   \n",
       "\n",
       "                                            selftext  created_utc  over_18  \\\n",
       "0  hi all, not sure if this is ok to post so plea...   1643066256    False   \n",
       "1  i’ve struggled with depression since i was abo...   1643064417    False   \n",
       "2  like i’m a rare case of bpd developing at a ve...   1643064326    False   \n",
       "3  i have been diagnosed with bpd late 2020s and ...   1643062602    False   \n",
       "4  my partner and fp broke up with me about 2 wee...   1643061431    False   \n",
       "\n",
       "  subreddit         date_created  self  is_relevant  highly_relevant  \\\n",
       "0       BPD  2022-01-24 23:17:36     0            0                0   \n",
       "1       BPD  2022-01-24 22:46:57     1            0                0   \n",
       "2       BPD  2022-01-24 22:45:26     1            0                0   \n",
       "3       BPD  2022-01-24 22:16:42     1            0                0   \n",
       "4       BPD  2022-01-24 21:57:11     1            0                0   \n",
       "\n",
       "                                       combined_text  \\\n",
       "0  Living with BPD hi all, not sure if this is ok...   \n",
       "1  i feel like i’m losing my battle and nothings ...   \n",
       "2  The Way Social Media Assumes Things About and ...   \n",
       "3  How to cope with family who doesn’t believe in...   \n",
       "4  Lost my FP/partner and now I’m addicted to dat...   \n",
       "\n",
       "                                      processed_text  \n",
       "0  living bpd hi all, sure ok post please remove ...  \n",
       "1  feel like i’m losing battle nothing helping i’...  \n",
       "2  way social medium assumes thing portraying bpd...  \n",
       "3  cope family doesn’t believe mental illness dia...  \n",
       "4  lost fp/partner i’m addicted dating apps hopin...  "
      ]
     },
     "execution_count": 8,
     "metadata": {},
     "output_type": "execute_result"
    }
   ],
   "source": [
    "df_coded.head()"
   ]
  },
  {
   "cell_type": "code",
   "execution_count": 100,
   "metadata": {},
   "outputs": [],
   "source": [
    "df_coded['medication_count'] = df_coded['processed_text'].apply(lambda x: count_keywords(x, medications))\n",
    "df_coded['general_count'] = df_coded['processed_text'].apply(lambda x: count_keywords(x, general_keywords))\n",
    "df_coded['therapy_count'] = df_coded['processed_text'].apply(lambda x: count_keywords(x, therapy))\n"
   ]
  },
  {
   "cell_type": "code",
   "execution_count": 101,
   "metadata": {},
   "outputs": [],
   "source": [
    "df_coded['meds_plus_therapy'] = df_coded['medication_count']+df_coded['therapy_count']\n",
    "df_coded['all_keywords'] = df_coded['medication_count']+df_coded['therapy_count']+df_coded['general_count']"
   ]
  },
  {
   "cell_type": "code",
   "execution_count": null,
   "metadata": {},
   "outputs": [],
   "source": [
    "from sklearn.decomposition import PCA\n",
    "from sklearn.preprocessing import StandardScaler\n",
    "from sklearn.pipeline import Pipeline"
   ]
  },
  {
   "cell_type": "code",
   "execution_count": 105,
   "metadata": {},
   "outputs": [
    {
     "name": "stderr",
     "output_type": "stream",
     "text": [
      "No artists with labels found to put in legend.  Note that artists whose label start with an underscore are ignored when legend() is called with no argument.\n"
     ]
    },
    {
     "data": {
      "image/png": "[encoded data removed]",
      "text/plain": [
       "<Figure size 700x500 with 1 Axes>"
      ]
     },
     "metadata": {},
     "output_type": "display_data"
    }
   ],
   "source": [
    "plt.figure(figsize=(7,5))\n",
    "\n",
    "plt.hist(df_coded[df_coded['highly_relevant']==1].all_keywords, color = 'b',alpha=0.5)\n",
    "plt.hist(df_coded[df_coded['highly_relevant']==0].all_keywords, color = 'r',alpha=0.5)\n",
    "\n",
    "plt.legend(fontsize=10)\n",
    "\n",
    "\n",
    "\n",
    "plt.show()"
   ]
  },
  {
   "cell_type": "code",
   "execution_count": 107,
   "metadata": {},
   "outputs": [
    {
     "name": "stderr",
     "output_type": "stream",
     "text": [
      "No artists with labels found to put in legend.  Note that artists whose label start with an underscore are ignored when legend() is called with no argument.\n"
     ]
    },
    {
     "data": {
      "image/png": "[encoded data removed]",
      "text/plain": [
       "<Figure size 700x500 with 1 Axes>"
      ]
     },
     "metadata": {},
     "output_type": "display_data"
    }
   ],
   "source": [
    "plt.figure(figsize=(7,5))\n",
    "\n",
    "plt.hist(df_coded[df_coded['highly_relevant']==1].medication_count, color = 'b',alpha=0.5)\n",
    "plt.hist(df_coded[df_coded['highly_relevant']==0].medication_count, color = 'r',alpha=0.5)\n",
    "\n",
    "plt.legend(fontsize=10)\n",
    "\n",
    "\n",
    "\n",
    "plt.show()"
   ]
  },
  {
   "cell_type": "markdown",
   "metadata": {},
   "source": [
    "#### EDA\n",
    "\n",
    "Mentioning a medication is a very strong signal that a post is relevant.\n",
    "\n",
    "The therapy keywords are not doing a great job right now, but the presence of a keyword is a very strong signal. Maybe by refining the keywords, we can build a better model.\n",
    "\n",
    "Perhaps we should only consider posts which contain a set of minimal keywords, and then build a model from there. This is a natural place to use decision trees and forests. I'm not sure how to turn the text post into a usable collection of attributes, but I'll try to think about this"
   ]
  },
  {
   "cell_type": "code",
   "execution_count": 108,
   "metadata": {},
   "outputs": [
    {
     "name": "stdout",
     "output_type": "stream",
     "text": [
      "217\n"
     ]
    }
   ],
   "source": [
    "count_missing = ((df_coded.highly_relevant == 0) & (df_coded.all_keywords > 0)).sum()\n",
    "print(count_missing)"
   ]
  },
  {
   "cell_type": "code",
   "execution_count": 89,
   "metadata": {},
   "outputs": [],
   "source": [
    "keyword_misses = ((df_coded.highly_relevant == 1) & (df_coded.meds_plus_therapy ==0))\n",
    "\n",
    "filtered_df = df_coded[keyword_misses]\n",
    "\n",
    "filtered_df.to_csv('../data/keyword_misses.csv')"
   ]
  },
  {
   "cell_type": "markdown",
   "metadata": {},
   "source": [
    "### Trying to make a model"
   ]
  },
  {
   "cell_type": "markdown",
   "metadata": {},
   "source": [
    "THIS IS UNDER PROGRESS, AND WON'T COMPILE"
   ]
  },
  {
   "cell_type": "code",
   "execution_count": null,
   "metadata": {},
   "outputs": [],
   "source": [
    "from sklearn.pipeline import FeatureUnion, Pipeline\n",
    "from sklearn.base import BaseEstimator, TransformerMixin\n",
    "from sklearn.preprocessing import FunctionTransformer\n",
    "from sklearn.feature_extraction.text import TfidfVectorizer\n",
    "from sklearn.naive_bayes import MultinomialNB\n",
    "from sklearn.model_selection import train_test_split, StratifiedKFold, cross_val_score\n",
    "from sklearn.metrics import classification_report\n",
    "\n",
    "\n"
   ]
  },
  {
   "cell_type": "code",
   "execution_count": null,
   "metadata": {},
   "outputs": [],
   "source": [
    "# Custom transformer to extract the keyword count feature\n",
    "class KeywordCountExtractor(BaseEstimator, TransformerMixin):\n",
    "    def __init__(self, keywords):\n",
    "        self.keywords = keywords\n",
    "\n",
    "    def fit(self, X, y=None):\n",
    "        return self\n",
    "\n",
    "    def transform(self, X):\n",
    "        return np.array([count_keywords(text, self.keywords) for text in X]).reshape(-1, 1)\n",
    "\n",
    "# Define the combined feature union \n",
    "    ###To do: Update the counts\n",
    "combined_features = FeatureUnion([\n",
    "    ('tfidf', TfidfVectorizer()),\n",
    "    ('keyword_count', Pipeline([\n",
    "        ('extract', FunctionTransformer(lambda x: x, validate=False)),\n",
    "        ('count', KeywordCountExtractor(keywords))\n",
    "    ]))\n",
    "])\n",
    "\n",
    "# Create the pipeline with combined features and the classifier\n",
    "pipeline = Pipeline([\n",
    "    ('features', combined_features),\n",
    "    ('classifier', MultinomialNB())\n",
    "])\n",
    "\n",
    "# Split the data into features and target variable\n",
    "# To do: Update the model to incorporate the keyword counts\n",
    "X = df_coded['processed_text']\n",
    "y = df_coded['highly_relevant']\n",
    "\n",
    "# Perform k-fold cross-validation on the training set\n",
    "kfold = StratifiedKFold(n_splits=5, shuffle=True, random_state=42)\n",
    "\n",
    "# Initialize lists to store evaluation results\n",
    "all_train_reports = []\n",
    "all_holdout_reports = []\n",
    "\n",
    "# Perform k-fold cross-validation\n",
    "for train_index, holdout_index in kfold.split(X, y):\n",
    "    X_train, X_holdout = X.iloc[train_index], X.iloc[holdout_index]\n",
    "    y_train, y_holdout = y.iloc[train_index], y.iloc[holdout_index]\n",
    "    \n",
    "    # Train the model on the training set\n",
    "    pipeline.fit(X_train, y_train)\n",
    "    \n",
    "    # Evaluate the model on the training set\n",
    "    y_pred_train = pipeline.predict(X_train)\n",
    "    train_report = classification_report(y_train, y_pred_train, output_dict=True)\n",
    "    all_train_reports.append(train_report)\n",
    "    \n",
    "    # Evaluate the model on the hold-out set\n",
    "    y_pred_prob_holdout = pipeline.predict_proba(X_holdout)[:, 1]  # Get probabilities for the positive class\n",
    "    \n",
    "    # Adjust the threshold\n",
    "    threshold = 0.3  # Example threshold less than 0.5 to increase sensitivity\n",
    "    y_pred_holdout = (y_pred_prob_holdout >= threshold).astype(int)\n",
    "    \n",
    "    holdout_report = classification_report(y_holdout, y_pred_holdout, output_dict=True)\n",
    "    all_holdout_reports.append(holdout_report)\n",
    "    \n",
    "    # Filter the holdout set for entries predicted as positive\n",
    "    positive_entries = X_holdout[y_pred_holdout == 1]\n",
    "    \n",
    "    # Display the positive entries from the holdout set\n",
    "    print(\"\\nEntries from the holdout set that the model predicted as positive:\")\n",
    "    print(positive_entries)\n",
    "    \n",
    "    # Additionally, show the actual labels for these entries\n",
    "    positive_labels = y_holdout[y_pred_holdout == 1]\n",
    "    print(\"\\nActual labels for the positive entries:\")\n",
    "    print(positive_labels)\n",
    "\n",
    "# Print average classification reports for train and holdout sets\n",
    "avg_train_report = pd.DataFrame(all_train_reports).mean().to_dict()\n",
    "avg_holdout_report = pd.DataFrame(all_holdout_reports).mean().to_dict()\n",
    "\n",
    "print(\"\\nAverage classification report on the training set:\")\n",
    "print(avg_train_report)\n",
    "\n",
    "print(\"\\nAverage classification report on the holdout set:\")\n",
    "print(avg_holdout_report)\n"
   ]
  }
 ],
 "metadata": {
  "kernelspec": {
   "display_name": "Python 3",
   "language": "python",
   "name": "python3"
  },
  "language_info": {
   "codemirror_mode": {
    "name": "ipython",
    "version": 3
   },
   "file_extension": ".py",
   "mimetype": "text/x-python",
   "name": "python",
   "nbconvert_exporter": "python",
   "pygments_lexer": "ipython3",
   "version": "3.12.0"
  }
 },
 "nbformat": 4,
 "nbformat_minor": 2
}
