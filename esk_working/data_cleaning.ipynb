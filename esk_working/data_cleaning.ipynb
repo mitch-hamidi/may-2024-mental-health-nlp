{
 "cells": [
  {
   "cell_type": "code",
   "execution_count": 1,
   "id": "6f08f09f-aa87-4569-8b93-3d02f5cefa07",
   "metadata": {},
   "outputs": [],
   "source": [
    "import pandas as pd"
   ]
  },
  {
   "cell_type": "code",
   "execution_count": 9,
   "id": "3d47a7d1-da82-4e14-a416-c1834822f8a9",
   "metadata": {},
   "outputs": [],
   "source": [
    "def clean_comments_csv(input_filepath, output_filepath):\n",
    "    # Read the CSV file into a DataFrame\n",
    "    comment_df = pd.read_csv(input_filepath)\n",
    "    \n",
    "    # Drop duplicates based on 'Post' and 'Comment' columns\n",
    "    cleaned_df = comment_df.drop_duplicates(\n",
    "        subset=['Post', 'Comment'],\n",
    "        keep='last'\n",
    "    ).reset_index(drop=True)\n",
    "    \n",
    "    # Print the number of duplicates dropped\n",
    "    print(len(comment_df) - len(cleaned_df), 'duplicates dropped from', input_filepath)\n",
    "    \n",
    "    # Remove rows where 'Comment' is 'Comment'\n",
    "    cleaned_df = cleaned_df[cleaned_df.Comment != 'Comment']\n",
    "    \n",
    "    # Save the cleaned DataFrame to the new file\n",
    "    cleaned_df.to_csv(output_filepath, index=False)"
   ]
  },
  {
   "cell_type": "code",
   "execution_count": 18,
   "id": "4f909667-8f49-42d9-8849-66e85d3af673",
   "metadata": {},
   "outputs": [],
   "source": [
    "input_filepath = 'C:/Users/ESK/Documents/DataScience/working/datafiles/bpd_memes.csv'\n",
    "output_filepath = 'cleaned_bpd_memes.csv'"
   ]
  },
  {
   "cell_type": "code",
   "execution_count": 15,
   "id": "71b1c538-79a3-4cc3-abad-0aee3658c659",
   "metadata": {},
   "outputs": [
    {
     "name": "stdout",
     "output_type": "stream",
     "text": [
      "48904 duplicates dropped from C:/Users/ESK/Documents/DataScience/working/datafiles/bpd.csv\n"
     ]
    }
   ],
   "source": [
    "#bpd comments\n",
    "clean_comments_csv(input_filepath, output_filepath)"
   ]
  },
  {
   "cell_type": "code",
   "execution_count": 17,
   "id": "c606d5f8-e528-49ef-8992-a625ba70180e",
   "metadata": {},
   "outputs": [
    {
     "name": "stdout",
     "output_type": "stream",
     "text": [
      "70397 duplicates dropped from C:/Users/ESK/Documents/DataScience/working/datafiles/BorderlinePDisorder.csv\n"
     ]
    }
   ],
   "source": [
    "#borderlinePDisorder comments\n",
    "clean_comments_csv(input_filepath, output_filepath)"
   ]
  },
  {
   "cell_type": "code",
   "execution_count": 19,
   "id": "b18db4ba-796c-4249-9084-e753f8f76b20",
   "metadata": {},
   "outputs": [
    {
     "name": "stdout",
     "output_type": "stream",
     "text": [
      "0 duplicates dropped from C:/Users/ESK/Documents/DataScience/working/datafiles/bpd_memes.csv\n"
     ]
    }
   ],
   "source": [
    "#bpd_memes comments\n",
    "clean_comments_csv(input_filepath, output_filepath)"
   ]
  },
  {
   "cell_type": "code",
   "execution_count": null,
   "id": "3221d689-1b91-4078-a5df-fae554685ca3",
   "metadata": {},
   "outputs": [],
   "source": []
  }
 ],
 "metadata": {
  "kernelspec": {
   "display_name": "erdos_may_2024",
   "language": "python",
   "name": "erdos_may_2024"
  },
  "language_info": {
   "codemirror_mode": {
    "name": "ipython",
    "version": 3
   },
   "file_extension": ".py",
   "mimetype": "text/x-python",
   "name": "python",
   "nbconvert_exporter": "python",
   "pygments_lexer": "ipython3",
   "version": "3.9.18"
  }
 },
 "nbformat": 4,
 "nbformat_minor": 5
}
